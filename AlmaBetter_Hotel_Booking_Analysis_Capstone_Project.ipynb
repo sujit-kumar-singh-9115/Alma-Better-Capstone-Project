{
  "cells": [
    {
      "cell_type": "markdown",
      "metadata": {
        "id": "view-in-github",
        "colab_type": "text"
      },
      "source": [
        "<a href=\"https://colab.research.google.com/github/sujit-kumar-singh-9115/Alma-Better-Capstone-Project/blob/main/AlmaBetter_Hotel_Booking_Analysis_Capstone_Project.ipynb\" target=\"_parent\"><img src=\"https://colab.research.google.com/assets/colab-badge.svg\" alt=\"Open In Colab\"/></a>"
      ]
    },
    {
      "cell_type": "markdown",
      "metadata": {
        "id": "Y06xIdG26kRF"
      },
      "source": [
        "## <b> Have you ever wondered when the best time of year to book a hotel room is? Or the optimal length of stay in order to get the best daily rate? What if you wanted to predict whether or not a hotel was likely to receive a disproportionately high number of special requests? This hotel booking dataset can help you explore those questions!\n",
        "\n",
        "## <b>This data set contains booking information for a city hotel and a resort hotel, and includes information such as when the booking was made, length of stay, the number of adults, children, and/or babies, and the number of available parking spaces, among other things. All personally identifying information has been removed from the data. </b>\n",
        "\n",
        "## <b> Explore and analyze the data to discover important factors that govern the bookings. </b>"
      ]
    },
    {
      "cell_type": "code",
      "execution_count": 2,
      "metadata": {
        "id": "dByMsuzT8Tnw"
      },
      "outputs": [],
      "source": [
        "# Importing packages\n",
        "import pandas as pd\n",
        "import numpy as np\n",
        "from datetime import datetime\n",
        "from datetime import date\n",
        "import matplotlib.pyplot as plt\n",
        "import seaborn as sns\n",
        "%matplotlib inline"
      ]
    },
    {
      "cell_type": "code",
      "execution_count": 3,
      "metadata": {
        "colab": {
          "base_uri": "https://localhost:8080/"
        },
        "id": "Bzh6eKCfkGGc",
        "outputId": "5e3fde96-c672-4f51-ce85-54d4aed80d1a"
      },
      "outputs": [
        {
          "output_type": "stream",
          "name": "stdout",
          "text": [
            "Mounted at /content/drive\n"
          ]
        }
      ],
      "source": [
        "from google.colab import drive\n",
        "drive.mount('/content/drive')"
      ]
    },
    {
      "cell_type": "code",
      "execution_count": 4,
      "metadata": {
        "id": "2rTF6UT8kFba"
      },
      "outputs": [],
      "source": [
        "# Reading the data file from the drive.\n",
        "hotel_booking_df  = pd.read_csv('/content/drive/MyDrive/Alma-Better Folder/Module 1/Capstone project - EDA/Hotel Bookings.csv')"
      ]
    },
    {
      "cell_type": "markdown",
      "metadata": {
        "id": "t-EfNG9XlK7E"
      },
      "source": [
        "# Let's Check the Data"
      ]
    },
    {
      "cell_type": "code",
      "execution_count": 5,
      "metadata": {
        "colab": {
          "base_uri": "https://localhost:8080/",
          "height": 661
        },
        "id": "HL84HSPHlJEK",
        "outputId": "36cb3816-3526-41f1-ab28-b058c70aa57d"
      },
      "outputs": [
        {
          "output_type": "execute_result",
          "data": {
            "text/plain": [
              "               hotel  is_canceled  lead_time  arrival_date_year  \\\n",
              "0       Resort Hotel            0        342               2015   \n",
              "1       Resort Hotel            0        737               2015   \n",
              "2       Resort Hotel            0          7               2015   \n",
              "3       Resort Hotel            0         13               2015   \n",
              "4       Resort Hotel            0         14               2015   \n",
              "...              ...          ...        ...                ...   \n",
              "119385    City Hotel            0         23               2017   \n",
              "119386    City Hotel            0        102               2017   \n",
              "119387    City Hotel            0         34               2017   \n",
              "119388    City Hotel            0        109               2017   \n",
              "119389    City Hotel            0        205               2017   \n",
              "\n",
              "       arrival_date_month  arrival_date_week_number  \\\n",
              "0                    July                        27   \n",
              "1                    July                        27   \n",
              "2                    July                        27   \n",
              "3                    July                        27   \n",
              "4                    July                        27   \n",
              "...                   ...                       ...   \n",
              "119385             August                        35   \n",
              "119386             August                        35   \n",
              "119387             August                        35   \n",
              "119388             August                        35   \n",
              "119389             August                        35   \n",
              "\n",
              "        arrival_date_day_of_month  stays_in_weekend_nights  \\\n",
              "0                               1                        0   \n",
              "1                               1                        0   \n",
              "2                               1                        0   \n",
              "3                               1                        0   \n",
              "4                               1                        0   \n",
              "...                           ...                      ...   \n",
              "119385                         30                        2   \n",
              "119386                         31                        2   \n",
              "119387                         31                        2   \n",
              "119388                         31                        2   \n",
              "119389                         29                        2   \n",
              "\n",
              "        stays_in_week_nights  adults  ...  deposit_type  agent company  \\\n",
              "0                          0       2  ...    No Deposit    NaN     NaN   \n",
              "1                          0       2  ...    No Deposit    NaN     NaN   \n",
              "2                          1       1  ...    No Deposit    NaN     NaN   \n",
              "3                          1       1  ...    No Deposit  304.0     NaN   \n",
              "4                          2       2  ...    No Deposit  240.0     NaN   \n",
              "...                      ...     ...  ...           ...    ...     ...   \n",
              "119385                     5       2  ...    No Deposit  394.0     NaN   \n",
              "119386                     5       3  ...    No Deposit    9.0     NaN   \n",
              "119387                     5       2  ...    No Deposit    9.0     NaN   \n",
              "119388                     5       2  ...    No Deposit   89.0     NaN   \n",
              "119389                     7       2  ...    No Deposit    9.0     NaN   \n",
              "\n",
              "       days_in_waiting_list customer_type     adr  \\\n",
              "0                         0     Transient    0.00   \n",
              "1                         0     Transient    0.00   \n",
              "2                         0     Transient   75.00   \n",
              "3                         0     Transient   75.00   \n",
              "4                         0     Transient   98.00   \n",
              "...                     ...           ...     ...   \n",
              "119385                    0     Transient   96.14   \n",
              "119386                    0     Transient  225.43   \n",
              "119387                    0     Transient  157.71   \n",
              "119388                    0     Transient  104.40   \n",
              "119389                    0     Transient  151.20   \n",
              "\n",
              "        required_car_parking_spaces  total_of_special_requests  \\\n",
              "0                                 0                          0   \n",
              "1                                 0                          0   \n",
              "2                                 0                          0   \n",
              "3                                 0                          0   \n",
              "4                                 0                          1   \n",
              "...                             ...                        ...   \n",
              "119385                            0                          0   \n",
              "119386                            0                          2   \n",
              "119387                            0                          4   \n",
              "119388                            0                          0   \n",
              "119389                            0                          2   \n",
              "\n",
              "        reservation_status reservation_status_date  \n",
              "0                Check-Out              2015-07-01  \n",
              "1                Check-Out              2015-07-01  \n",
              "2                Check-Out              2015-07-02  \n",
              "3                Check-Out              2015-07-02  \n",
              "4                Check-Out              2015-07-03  \n",
              "...                    ...                     ...  \n",
              "119385           Check-Out              2017-09-06  \n",
              "119386           Check-Out              2017-09-07  \n",
              "119387           Check-Out              2017-09-07  \n",
              "119388           Check-Out              2017-09-07  \n",
              "119389           Check-Out              2017-09-07  \n",
              "\n",
              "[119390 rows x 32 columns]"
            ],
            "text/html": [
              "\n",
              "  <div id=\"df-8e19ef2c-1280-49bb-8b2c-396a5ca4a1fb\">\n",
              "    <div class=\"colab-df-container\">\n",
              "      <div>\n",
              "<style scoped>\n",
              "    .dataframe tbody tr th:only-of-type {\n",
              "        vertical-align: middle;\n",
              "    }\n",
              "\n",
              "    .dataframe tbody tr th {\n",
              "        vertical-align: top;\n",
              "    }\n",
              "\n",
              "    .dataframe thead th {\n",
              "        text-align: right;\n",
              "    }\n",
              "</style>\n",
              "<table border=\"1\" class=\"dataframe\">\n",
              "  <thead>\n",
              "    <tr style=\"text-align: right;\">\n",
              "      <th></th>\n",
              "      <th>hotel</th>\n",
              "      <th>is_canceled</th>\n",
              "      <th>lead_time</th>\n",
              "      <th>arrival_date_year</th>\n",
              "      <th>arrival_date_month</th>\n",
              "      <th>arrival_date_week_number</th>\n",
              "      <th>arrival_date_day_of_month</th>\n",
              "      <th>stays_in_weekend_nights</th>\n",
              "      <th>stays_in_week_nights</th>\n",
              "      <th>adults</th>\n",
              "      <th>...</th>\n",
              "      <th>deposit_type</th>\n",
              "      <th>agent</th>\n",
              "      <th>company</th>\n",
              "      <th>days_in_waiting_list</th>\n",
              "      <th>customer_type</th>\n",
              "      <th>adr</th>\n",
              "      <th>required_car_parking_spaces</th>\n",
              "      <th>total_of_special_requests</th>\n",
              "      <th>reservation_status</th>\n",
              "      <th>reservation_status_date</th>\n",
              "    </tr>\n",
              "  </thead>\n",
              "  <tbody>\n",
              "    <tr>\n",
              "      <th>0</th>\n",
              "      <td>Resort Hotel</td>\n",
              "      <td>0</td>\n",
              "      <td>342</td>\n",
              "      <td>2015</td>\n",
              "      <td>July</td>\n",
              "      <td>27</td>\n",
              "      <td>1</td>\n",
              "      <td>0</td>\n",
              "      <td>0</td>\n",
              "      <td>2</td>\n",
              "      <td>...</td>\n",
              "      <td>No Deposit</td>\n",
              "      <td>NaN</td>\n",
              "      <td>NaN</td>\n",
              "      <td>0</td>\n",
              "      <td>Transient</td>\n",
              "      <td>0.00</td>\n",
              "      <td>0</td>\n",
              "      <td>0</td>\n",
              "      <td>Check-Out</td>\n",
              "      <td>2015-07-01</td>\n",
              "    </tr>\n",
              "    <tr>\n",
              "      <th>1</th>\n",
              "      <td>Resort Hotel</td>\n",
              "      <td>0</td>\n",
              "      <td>737</td>\n",
              "      <td>2015</td>\n",
              "      <td>July</td>\n",
              "      <td>27</td>\n",
              "      <td>1</td>\n",
              "      <td>0</td>\n",
              "      <td>0</td>\n",
              "      <td>2</td>\n",
              "      <td>...</td>\n",
              "      <td>No Deposit</td>\n",
              "      <td>NaN</td>\n",
              "      <td>NaN</td>\n",
              "      <td>0</td>\n",
              "      <td>Transient</td>\n",
              "      <td>0.00</td>\n",
              "      <td>0</td>\n",
              "      <td>0</td>\n",
              "      <td>Check-Out</td>\n",
              "      <td>2015-07-01</td>\n",
              "    </tr>\n",
              "    <tr>\n",
              "      <th>2</th>\n",
              "      <td>Resort Hotel</td>\n",
              "      <td>0</td>\n",
              "      <td>7</td>\n",
              "      <td>2015</td>\n",
              "      <td>July</td>\n",
              "      <td>27</td>\n",
              "      <td>1</td>\n",
              "      <td>0</td>\n",
              "      <td>1</td>\n",
              "      <td>1</td>\n",
              "      <td>...</td>\n",
              "      <td>No Deposit</td>\n",
              "      <td>NaN</td>\n",
              "      <td>NaN</td>\n",
              "      <td>0</td>\n",
              "      <td>Transient</td>\n",
              "      <td>75.00</td>\n",
              "      <td>0</td>\n",
              "      <td>0</td>\n",
              "      <td>Check-Out</td>\n",
              "      <td>2015-07-02</td>\n",
              "    </tr>\n",
              "    <tr>\n",
              "      <th>3</th>\n",
              "      <td>Resort Hotel</td>\n",
              "      <td>0</td>\n",
              "      <td>13</td>\n",
              "      <td>2015</td>\n",
              "      <td>July</td>\n",
              "      <td>27</td>\n",
              "      <td>1</td>\n",
              "      <td>0</td>\n",
              "      <td>1</td>\n",
              "      <td>1</td>\n",
              "      <td>...</td>\n",
              "      <td>No Deposit</td>\n",
              "      <td>304.0</td>\n",
              "      <td>NaN</td>\n",
              "      <td>0</td>\n",
              "      <td>Transient</td>\n",
              "      <td>75.00</td>\n",
              "      <td>0</td>\n",
              "      <td>0</td>\n",
              "      <td>Check-Out</td>\n",
              "      <td>2015-07-02</td>\n",
              "    </tr>\n",
              "    <tr>\n",
              "      <th>4</th>\n",
              "      <td>Resort Hotel</td>\n",
              "      <td>0</td>\n",
              "      <td>14</td>\n",
              "      <td>2015</td>\n",
              "      <td>July</td>\n",
              "      <td>27</td>\n",
              "      <td>1</td>\n",
              "      <td>0</td>\n",
              "      <td>2</td>\n",
              "      <td>2</td>\n",
              "      <td>...</td>\n",
              "      <td>No Deposit</td>\n",
              "      <td>240.0</td>\n",
              "      <td>NaN</td>\n",
              "      <td>0</td>\n",
              "      <td>Transient</td>\n",
              "      <td>98.00</td>\n",
              "      <td>0</td>\n",
              "      <td>1</td>\n",
              "      <td>Check-Out</td>\n",
              "      <td>2015-07-03</td>\n",
              "    </tr>\n",
              "    <tr>\n",
              "      <th>...</th>\n",
              "      <td>...</td>\n",
              "      <td>...</td>\n",
              "      <td>...</td>\n",
              "      <td>...</td>\n",
              "      <td>...</td>\n",
              "      <td>...</td>\n",
              "      <td>...</td>\n",
              "      <td>...</td>\n",
              "      <td>...</td>\n",
              "      <td>...</td>\n",
              "      <td>...</td>\n",
              "      <td>...</td>\n",
              "      <td>...</td>\n",
              "      <td>...</td>\n",
              "      <td>...</td>\n",
              "      <td>...</td>\n",
              "      <td>...</td>\n",
              "      <td>...</td>\n",
              "      <td>...</td>\n",
              "      <td>...</td>\n",
              "      <td>...</td>\n",
              "    </tr>\n",
              "    <tr>\n",
              "      <th>119385</th>\n",
              "      <td>City Hotel</td>\n",
              "      <td>0</td>\n",
              "      <td>23</td>\n",
              "      <td>2017</td>\n",
              "      <td>August</td>\n",
              "      <td>35</td>\n",
              "      <td>30</td>\n",
              "      <td>2</td>\n",
              "      <td>5</td>\n",
              "      <td>2</td>\n",
              "      <td>...</td>\n",
              "      <td>No Deposit</td>\n",
              "      <td>394.0</td>\n",
              "      <td>NaN</td>\n",
              "      <td>0</td>\n",
              "      <td>Transient</td>\n",
              "      <td>96.14</td>\n",
              "      <td>0</td>\n",
              "      <td>0</td>\n",
              "      <td>Check-Out</td>\n",
              "      <td>2017-09-06</td>\n",
              "    </tr>\n",
              "    <tr>\n",
              "      <th>119386</th>\n",
              "      <td>City Hotel</td>\n",
              "      <td>0</td>\n",
              "      <td>102</td>\n",
              "      <td>2017</td>\n",
              "      <td>August</td>\n",
              "      <td>35</td>\n",
              "      <td>31</td>\n",
              "      <td>2</td>\n",
              "      <td>5</td>\n",
              "      <td>3</td>\n",
              "      <td>...</td>\n",
              "      <td>No Deposit</td>\n",
              "      <td>9.0</td>\n",
              "      <td>NaN</td>\n",
              "      <td>0</td>\n",
              "      <td>Transient</td>\n",
              "      <td>225.43</td>\n",
              "      <td>0</td>\n",
              "      <td>2</td>\n",
              "      <td>Check-Out</td>\n",
              "      <td>2017-09-07</td>\n",
              "    </tr>\n",
              "    <tr>\n",
              "      <th>119387</th>\n",
              "      <td>City Hotel</td>\n",
              "      <td>0</td>\n",
              "      <td>34</td>\n",
              "      <td>2017</td>\n",
              "      <td>August</td>\n",
              "      <td>35</td>\n",
              "      <td>31</td>\n",
              "      <td>2</td>\n",
              "      <td>5</td>\n",
              "      <td>2</td>\n",
              "      <td>...</td>\n",
              "      <td>No Deposit</td>\n",
              "      <td>9.0</td>\n",
              "      <td>NaN</td>\n",
              "      <td>0</td>\n",
              "      <td>Transient</td>\n",
              "      <td>157.71</td>\n",
              "      <td>0</td>\n",
              "      <td>4</td>\n",
              "      <td>Check-Out</td>\n",
              "      <td>2017-09-07</td>\n",
              "    </tr>\n",
              "    <tr>\n",
              "      <th>119388</th>\n",
              "      <td>City Hotel</td>\n",
              "      <td>0</td>\n",
              "      <td>109</td>\n",
              "      <td>2017</td>\n",
              "      <td>August</td>\n",
              "      <td>35</td>\n",
              "      <td>31</td>\n",
              "      <td>2</td>\n",
              "      <td>5</td>\n",
              "      <td>2</td>\n",
              "      <td>...</td>\n",
              "      <td>No Deposit</td>\n",
              "      <td>89.0</td>\n",
              "      <td>NaN</td>\n",
              "      <td>0</td>\n",
              "      <td>Transient</td>\n",
              "      <td>104.40</td>\n",
              "      <td>0</td>\n",
              "      <td>0</td>\n",
              "      <td>Check-Out</td>\n",
              "      <td>2017-09-07</td>\n",
              "    </tr>\n",
              "    <tr>\n",
              "      <th>119389</th>\n",
              "      <td>City Hotel</td>\n",
              "      <td>0</td>\n",
              "      <td>205</td>\n",
              "      <td>2017</td>\n",
              "      <td>August</td>\n",
              "      <td>35</td>\n",
              "      <td>29</td>\n",
              "      <td>2</td>\n",
              "      <td>7</td>\n",
              "      <td>2</td>\n",
              "      <td>...</td>\n",
              "      <td>No Deposit</td>\n",
              "      <td>9.0</td>\n",
              "      <td>NaN</td>\n",
              "      <td>0</td>\n",
              "      <td>Transient</td>\n",
              "      <td>151.20</td>\n",
              "      <td>0</td>\n",
              "      <td>2</td>\n",
              "      <td>Check-Out</td>\n",
              "      <td>2017-09-07</td>\n",
              "    </tr>\n",
              "  </tbody>\n",
              "</table>\n",
              "<p>119390 rows × 32 columns</p>\n",
              "</div>\n",
              "      <button class=\"colab-df-convert\" onclick=\"convertToInteractive('df-8e19ef2c-1280-49bb-8b2c-396a5ca4a1fb')\"\n",
              "              title=\"Convert this dataframe to an interactive table.\"\n",
              "              style=\"display:none;\">\n",
              "        \n",
              "  <svg xmlns=\"http://www.w3.org/2000/svg\" height=\"24px\"viewBox=\"0 0 24 24\"\n",
              "       width=\"24px\">\n",
              "    <path d=\"M0 0h24v24H0V0z\" fill=\"none\"/>\n",
              "    <path d=\"M18.56 5.44l.94 2.06.94-2.06 2.06-.94-2.06-.94-.94-2.06-.94 2.06-2.06.94zm-11 1L8.5 8.5l.94-2.06 2.06-.94-2.06-.94L8.5 2.5l-.94 2.06-2.06.94zm10 10l.94 2.06.94-2.06 2.06-.94-2.06-.94-.94-2.06-.94 2.06-2.06.94z\"/><path d=\"M17.41 7.96l-1.37-1.37c-.4-.4-.92-.59-1.43-.59-.52 0-1.04.2-1.43.59L10.3 9.45l-7.72 7.72c-.78.78-.78 2.05 0 2.83L4 21.41c.39.39.9.59 1.41.59.51 0 1.02-.2 1.41-.59l7.78-7.78 2.81-2.81c.8-.78.8-2.07 0-2.86zM5.41 20L4 18.59l7.72-7.72 1.47 1.35L5.41 20z\"/>\n",
              "  </svg>\n",
              "      </button>\n",
              "      \n",
              "  <style>\n",
              "    .colab-df-container {\n",
              "      display:flex;\n",
              "      flex-wrap:wrap;\n",
              "      gap: 12px;\n",
              "    }\n",
              "\n",
              "    .colab-df-convert {\n",
              "      background-color: #E8F0FE;\n",
              "      border: none;\n",
              "      border-radius: 50%;\n",
              "      cursor: pointer;\n",
              "      display: none;\n",
              "      fill: #1967D2;\n",
              "      height: 32px;\n",
              "      padding: 0 0 0 0;\n",
              "      width: 32px;\n",
              "    }\n",
              "\n",
              "    .colab-df-convert:hover {\n",
              "      background-color: #E2EBFA;\n",
              "      box-shadow: 0px 1px 2px rgba(60, 64, 67, 0.3), 0px 1px 3px 1px rgba(60, 64, 67, 0.15);\n",
              "      fill: #174EA6;\n",
              "    }\n",
              "\n",
              "    [theme=dark] .colab-df-convert {\n",
              "      background-color: #3B4455;\n",
              "      fill: #D2E3FC;\n",
              "    }\n",
              "\n",
              "    [theme=dark] .colab-df-convert:hover {\n",
              "      background-color: #434B5C;\n",
              "      box-shadow: 0px 1px 3px 1px rgba(0, 0, 0, 0.15);\n",
              "      filter: drop-shadow(0px 1px 2px rgba(0, 0, 0, 0.3));\n",
              "      fill: #FFFFFF;\n",
              "    }\n",
              "  </style>\n",
              "\n",
              "      <script>\n",
              "        const buttonEl =\n",
              "          document.querySelector('#df-8e19ef2c-1280-49bb-8b2c-396a5ca4a1fb button.colab-df-convert');\n",
              "        buttonEl.style.display =\n",
              "          google.colab.kernel.accessAllowed ? 'block' : 'none';\n",
              "\n",
              "        async function convertToInteractive(key) {\n",
              "          const element = document.querySelector('#df-8e19ef2c-1280-49bb-8b2c-396a5ca4a1fb');\n",
              "          const dataTable =\n",
              "            await google.colab.kernel.invokeFunction('convertToInteractive',\n",
              "                                                     [key], {});\n",
              "          if (!dataTable) return;\n",
              "\n",
              "          const docLinkHtml = 'Like what you see? Visit the ' +\n",
              "            '<a target=\"_blank\" href=https://colab.research.google.com/notebooks/data_table.ipynb>data table notebook</a>'\n",
              "            + ' to learn more about interactive tables.';\n",
              "          element.innerHTML = '';\n",
              "          dataTable['output_type'] = 'display_data';\n",
              "          await google.colab.output.renderOutput(dataTable, element);\n",
              "          const docLink = document.createElement('div');\n",
              "          docLink.innerHTML = docLinkHtml;\n",
              "          element.appendChild(docLink);\n",
              "        }\n",
              "      </script>\n",
              "    </div>\n",
              "  </div>\n",
              "  "
            ]
          },
          "metadata": {},
          "execution_count": 5
        }
      ],
      "source": [
        "# let's check the data.\n",
        "hotel_booking_df"
      ]
    },
    {
      "cell_type": "markdown",
      "metadata": {
        "id": "rG_aa9gLlfgY"
      },
      "source": [
        "## Now we will try to check the shape of the Data"
      ]
    },
    {
      "cell_type": "code",
      "execution_count": 6,
      "metadata": {
        "colab": {
          "base_uri": "https://localhost:8080/"
        },
        "id": "5X4jw7VwlmqA",
        "outputId": "a067278a-34ea-4a01-a000-4ab51ffd36b1"
      },
      "outputs": [
        {
          "output_type": "execute_result",
          "data": {
            "text/plain": [
              "(119390, 32)"
            ]
          },
          "metadata": {},
          "execution_count": 6
        }
      ],
      "source": [
        "# Checking the shape of the data.\n",
        "hotel_booking_df.shape  "
      ]
    },
    {
      "cell_type": "markdown",
      "metadata": {
        "id": "1sGgtTFSl5Wv"
      },
      "source": [
        "## Now we wil see the various  columns and their names present in the data"
      ]
    },
    {
      "cell_type": "code",
      "execution_count": 7,
      "metadata": {
        "colab": {
          "base_uri": "https://localhost:8080/"
        },
        "id": "Tuj6EW6AmC8X",
        "outputId": "42cbe4d4-afbd-4a33-ac3c-8e51e2442579"
      },
      "outputs": [
        {
          "output_type": "execute_result",
          "data": {
            "text/plain": [
              "Index(['hotel', 'is_canceled', 'lead_time', 'arrival_date_year',\n",
              "       'arrival_date_month', 'arrival_date_week_number',\n",
              "       'arrival_date_day_of_month', 'stays_in_weekend_nights',\n",
              "       'stays_in_week_nights', 'adults', 'children', 'babies', 'meal',\n",
              "       'country', 'market_segment', 'distribution_channel',\n",
              "       'is_repeated_guest', 'previous_cancellations',\n",
              "       'previous_bookings_not_canceled', 'reserved_room_type',\n",
              "       'assigned_room_type', 'booking_changes', 'deposit_type', 'agent',\n",
              "       'company', 'days_in_waiting_list', 'customer_type', 'adr',\n",
              "       'required_car_parking_spaces', 'total_of_special_requests',\n",
              "       'reservation_status', 'reservation_status_date'],\n",
              "      dtype='object')"
            ]
          },
          "metadata": {},
          "execution_count": 7
        }
      ],
      "source": [
        "# Checking the columns present in the data.\n",
        "hotel_booking_df.columns   "
      ]
    },
    {
      "cell_type": "markdown",
      "metadata": {
        "id": "LV4uYF0xmSw3"
      },
      "source": [
        "## Since data type is important factor while data Wrangling, we check it and along with datatype we will have a note of the null values present in the dataset"
      ]
    },
    {
      "cell_type": "code",
      "execution_count": 8,
      "metadata": {
        "colab": {
          "base_uri": "https://localhost:8080/"
        },
        "id": "5rny37phm2Vk",
        "outputId": "d5a4621b-2569-46bd-996f-749a18ca22e0"
      },
      "outputs": [
        {
          "output_type": "stream",
          "name": "stdout",
          "text": [
            "<class 'pandas.core.frame.DataFrame'>\n",
            "RangeIndex: 119390 entries, 0 to 119389\n",
            "Data columns (total 32 columns):\n",
            " #   Column                          Non-Null Count   Dtype  \n",
            "---  ------                          --------------   -----  \n",
            " 0   hotel                           119390 non-null  object \n",
            " 1   is_canceled                     119390 non-null  int64  \n",
            " 2   lead_time                       119390 non-null  int64  \n",
            " 3   arrival_date_year               119390 non-null  int64  \n",
            " 4   arrival_date_month              119390 non-null  object \n",
            " 5   arrival_date_week_number        119390 non-null  int64  \n",
            " 6   arrival_date_day_of_month       119390 non-null  int64  \n",
            " 7   stays_in_weekend_nights         119390 non-null  int64  \n",
            " 8   stays_in_week_nights            119390 non-null  int64  \n",
            " 9   adults                          119390 non-null  int64  \n",
            " 10  children                        119386 non-null  float64\n",
            " 11  babies                          119390 non-null  int64  \n",
            " 12  meal                            119390 non-null  object \n",
            " 13  country                         118902 non-null  object \n",
            " 14  market_segment                  119390 non-null  object \n",
            " 15  distribution_channel            119390 non-null  object \n",
            " 16  is_repeated_guest               119390 non-null  int64  \n",
            " 17  previous_cancellations          119390 non-null  int64  \n",
            " 18  previous_bookings_not_canceled  119390 non-null  int64  \n",
            " 19  reserved_room_type              119390 non-null  object \n",
            " 20  assigned_room_type              119390 non-null  object \n",
            " 21  booking_changes                 119390 non-null  int64  \n",
            " 22  deposit_type                    119390 non-null  object \n",
            " 23  agent                           103050 non-null  float64\n",
            " 24  company                         6797 non-null    float64\n",
            " 25  days_in_waiting_list            119390 non-null  int64  \n",
            " 26  customer_type                   119390 non-null  object \n",
            " 27  adr                             119390 non-null  float64\n",
            " 28  required_car_parking_spaces     119390 non-null  int64  \n",
            " 29  total_of_special_requests       119390 non-null  int64  \n",
            " 30  reservation_status              119390 non-null  object \n",
            " 31  reservation_status_date         119390 non-null  object \n",
            "dtypes: float64(4), int64(16), object(12)\n",
            "memory usage: 29.1+ MB\n"
          ]
        }
      ],
      "source": [
        "# Checking the total non-null values count and datatypes of the coloumns.\n",
        "hotel_booking_df.info()"
      ]
    },
    {
      "cell_type": "markdown",
      "metadata": {
        "id": "Ihq8x6nVox86"
      },
      "source": [
        "## Now we will understand the numerical information of our data."
      ]
    },
    {
      "cell_type": "code",
      "execution_count": 9,
      "metadata": {
        "colab": {
          "base_uri": "https://localhost:8080/",
          "height": 505
        },
        "id": "HiDwdLReozsN",
        "outputId": "50fd5f78-e254-4f47-c343-e16b4b310a94"
      },
      "outputs": [
        {
          "output_type": "execute_result",
          "data": {
            "text/plain": [
              "             hotel    is_canceled      lead_time  arrival_date_year  \\\n",
              "count       119390  119390.000000  119390.000000      119390.000000   \n",
              "unique           2            NaN            NaN                NaN   \n",
              "top     City Hotel            NaN            NaN                NaN   \n",
              "freq         79330            NaN            NaN                NaN   \n",
              "mean           NaN       0.370416     104.011416        2016.156554   \n",
              "std            NaN       0.482918     106.863097           0.707476   \n",
              "min            NaN       0.000000       0.000000        2015.000000   \n",
              "25%            NaN       0.000000      18.000000        2016.000000   \n",
              "50%            NaN       0.000000      69.000000        2016.000000   \n",
              "75%            NaN       1.000000     160.000000        2017.000000   \n",
              "max            NaN       1.000000     737.000000        2017.000000   \n",
              "\n",
              "       arrival_date_month  arrival_date_week_number  \\\n",
              "count              119390             119390.000000   \n",
              "unique                 12                       NaN   \n",
              "top                August                       NaN   \n",
              "freq                13877                       NaN   \n",
              "mean                  NaN                 27.165173   \n",
              "std                   NaN                 13.605138   \n",
              "min                   NaN                  1.000000   \n",
              "25%                   NaN                 16.000000   \n",
              "50%                   NaN                 28.000000   \n",
              "75%                   NaN                 38.000000   \n",
              "max                   NaN                 53.000000   \n",
              "\n",
              "        arrival_date_day_of_month  stays_in_weekend_nights  \\\n",
              "count               119390.000000            119390.000000   \n",
              "unique                        NaN                      NaN   \n",
              "top                           NaN                      NaN   \n",
              "freq                          NaN                      NaN   \n",
              "mean                    15.798241                 0.927599   \n",
              "std                      8.780829                 0.998613   \n",
              "min                      1.000000                 0.000000   \n",
              "25%                      8.000000                 0.000000   \n",
              "50%                     16.000000                 1.000000   \n",
              "75%                     23.000000                 2.000000   \n",
              "max                     31.000000                19.000000   \n",
              "\n",
              "        stays_in_week_nights         adults  ...  deposit_type          agent  \\\n",
              "count          119390.000000  119390.000000  ...        119390  103050.000000   \n",
              "unique                   NaN            NaN  ...             3            NaN   \n",
              "top                      NaN            NaN  ...    No Deposit            NaN   \n",
              "freq                     NaN            NaN  ...        104641            NaN   \n",
              "mean                2.500302       1.856403  ...           NaN      86.693382   \n",
              "std                 1.908286       0.579261  ...           NaN     110.774548   \n",
              "min                 0.000000       0.000000  ...           NaN       1.000000   \n",
              "25%                 1.000000       2.000000  ...           NaN       9.000000   \n",
              "50%                 2.000000       2.000000  ...           NaN      14.000000   \n",
              "75%                 3.000000       2.000000  ...           NaN     229.000000   \n",
              "max                50.000000      55.000000  ...           NaN     535.000000   \n",
              "\n",
              "            company days_in_waiting_list customer_type            adr  \\\n",
              "count   6797.000000        119390.000000        119390  119390.000000   \n",
              "unique          NaN                  NaN             4            NaN   \n",
              "top             NaN                  NaN     Transient            NaN   \n",
              "freq            NaN                  NaN         89613            NaN   \n",
              "mean     189.266735             2.321149           NaN     101.831122   \n",
              "std      131.655015            17.594721           NaN      50.535790   \n",
              "min        6.000000             0.000000           NaN      -6.380000   \n",
              "25%       62.000000             0.000000           NaN      69.290000   \n",
              "50%      179.000000             0.000000           NaN      94.575000   \n",
              "75%      270.000000             0.000000           NaN     126.000000   \n",
              "max      543.000000           391.000000           NaN    5400.000000   \n",
              "\n",
              "        required_car_parking_spaces  total_of_special_requests  \\\n",
              "count                 119390.000000              119390.000000   \n",
              "unique                          NaN                        NaN   \n",
              "top                             NaN                        NaN   \n",
              "freq                            NaN                        NaN   \n",
              "mean                       0.062518                   0.571363   \n",
              "std                        0.245291                   0.792798   \n",
              "min                        0.000000                   0.000000   \n",
              "25%                        0.000000                   0.000000   \n",
              "50%                        0.000000                   0.000000   \n",
              "75%                        0.000000                   1.000000   \n",
              "max                        8.000000                   5.000000   \n",
              "\n",
              "        reservation_status reservation_status_date  \n",
              "count               119390                  119390  \n",
              "unique                   3                     926  \n",
              "top              Check-Out              2015-10-21  \n",
              "freq                 75166                    1461  \n",
              "mean                   NaN                     NaN  \n",
              "std                    NaN                     NaN  \n",
              "min                    NaN                     NaN  \n",
              "25%                    NaN                     NaN  \n",
              "50%                    NaN                     NaN  \n",
              "75%                    NaN                     NaN  \n",
              "max                    NaN                     NaN  \n",
              "\n",
              "[11 rows x 32 columns]"
            ],
            "text/html": [
              "\n",
              "  <div id=\"df-5d114f81-8dfe-468c-b892-261c8e8d1a07\">\n",
              "    <div class=\"colab-df-container\">\n",
              "      <div>\n",
              "<style scoped>\n",
              "    .dataframe tbody tr th:only-of-type {\n",
              "        vertical-align: middle;\n",
              "    }\n",
              "\n",
              "    .dataframe tbody tr th {\n",
              "        vertical-align: top;\n",
              "    }\n",
              "\n",
              "    .dataframe thead th {\n",
              "        text-align: right;\n",
              "    }\n",
              "</style>\n",
              "<table border=\"1\" class=\"dataframe\">\n",
              "  <thead>\n",
              "    <tr style=\"text-align: right;\">\n",
              "      <th></th>\n",
              "      <th>hotel</th>\n",
              "      <th>is_canceled</th>\n",
              "      <th>lead_time</th>\n",
              "      <th>arrival_date_year</th>\n",
              "      <th>arrival_date_month</th>\n",
              "      <th>arrival_date_week_number</th>\n",
              "      <th>arrival_date_day_of_month</th>\n",
              "      <th>stays_in_weekend_nights</th>\n",
              "      <th>stays_in_week_nights</th>\n",
              "      <th>adults</th>\n",
              "      <th>...</th>\n",
              "      <th>deposit_type</th>\n",
              "      <th>agent</th>\n",
              "      <th>company</th>\n",
              "      <th>days_in_waiting_list</th>\n",
              "      <th>customer_type</th>\n",
              "      <th>adr</th>\n",
              "      <th>required_car_parking_spaces</th>\n",
              "      <th>total_of_special_requests</th>\n",
              "      <th>reservation_status</th>\n",
              "      <th>reservation_status_date</th>\n",
              "    </tr>\n",
              "  </thead>\n",
              "  <tbody>\n",
              "    <tr>\n",
              "      <th>count</th>\n",
              "      <td>119390</td>\n",
              "      <td>119390.000000</td>\n",
              "      <td>119390.000000</td>\n",
              "      <td>119390.000000</td>\n",
              "      <td>119390</td>\n",
              "      <td>119390.000000</td>\n",
              "      <td>119390.000000</td>\n",
              "      <td>119390.000000</td>\n",
              "      <td>119390.000000</td>\n",
              "      <td>119390.000000</td>\n",
              "      <td>...</td>\n",
              "      <td>119390</td>\n",
              "      <td>103050.000000</td>\n",
              "      <td>6797.000000</td>\n",
              "      <td>119390.000000</td>\n",
              "      <td>119390</td>\n",
              "      <td>119390.000000</td>\n",
              "      <td>119390.000000</td>\n",
              "      <td>119390.000000</td>\n",
              "      <td>119390</td>\n",
              "      <td>119390</td>\n",
              "    </tr>\n",
              "    <tr>\n",
              "      <th>unique</th>\n",
              "      <td>2</td>\n",
              "      <td>NaN</td>\n",
              "      <td>NaN</td>\n",
              "      <td>NaN</td>\n",
              "      <td>12</td>\n",
              "      <td>NaN</td>\n",
              "      <td>NaN</td>\n",
              "      <td>NaN</td>\n",
              "      <td>NaN</td>\n",
              "      <td>NaN</td>\n",
              "      <td>...</td>\n",
              "      <td>3</td>\n",
              "      <td>NaN</td>\n",
              "      <td>NaN</td>\n",
              "      <td>NaN</td>\n",
              "      <td>4</td>\n",
              "      <td>NaN</td>\n",
              "      <td>NaN</td>\n",
              "      <td>NaN</td>\n",
              "      <td>3</td>\n",
              "      <td>926</td>\n",
              "    </tr>\n",
              "    <tr>\n",
              "      <th>top</th>\n",
              "      <td>City Hotel</td>\n",
              "      <td>NaN</td>\n",
              "      <td>NaN</td>\n",
              "      <td>NaN</td>\n",
              "      <td>August</td>\n",
              "      <td>NaN</td>\n",
              "      <td>NaN</td>\n",
              "      <td>NaN</td>\n",
              "      <td>NaN</td>\n",
              "      <td>NaN</td>\n",
              "      <td>...</td>\n",
              "      <td>No Deposit</td>\n",
              "      <td>NaN</td>\n",
              "      <td>NaN</td>\n",
              "      <td>NaN</td>\n",
              "      <td>Transient</td>\n",
              "      <td>NaN</td>\n",
              "      <td>NaN</td>\n",
              "      <td>NaN</td>\n",
              "      <td>Check-Out</td>\n",
              "      <td>2015-10-21</td>\n",
              "    </tr>\n",
              "    <tr>\n",
              "      <th>freq</th>\n",
              "      <td>79330</td>\n",
              "      <td>NaN</td>\n",
              "      <td>NaN</td>\n",
              "      <td>NaN</td>\n",
              "      <td>13877</td>\n",
              "      <td>NaN</td>\n",
              "      <td>NaN</td>\n",
              "      <td>NaN</td>\n",
              "      <td>NaN</td>\n",
              "      <td>NaN</td>\n",
              "      <td>...</td>\n",
              "      <td>104641</td>\n",
              "      <td>NaN</td>\n",
              "      <td>NaN</td>\n",
              "      <td>NaN</td>\n",
              "      <td>89613</td>\n",
              "      <td>NaN</td>\n",
              "      <td>NaN</td>\n",
              "      <td>NaN</td>\n",
              "      <td>75166</td>\n",
              "      <td>1461</td>\n",
              "    </tr>\n",
              "    <tr>\n",
              "      <th>mean</th>\n",
              "      <td>NaN</td>\n",
              "      <td>0.370416</td>\n",
              "      <td>104.011416</td>\n",
              "      <td>2016.156554</td>\n",
              "      <td>NaN</td>\n",
              "      <td>27.165173</td>\n",
              "      <td>15.798241</td>\n",
              "      <td>0.927599</td>\n",
              "      <td>2.500302</td>\n",
              "      <td>1.856403</td>\n",
              "      <td>...</td>\n",
              "      <td>NaN</td>\n",
              "      <td>86.693382</td>\n",
              "      <td>189.266735</td>\n",
              "      <td>2.321149</td>\n",
              "      <td>NaN</td>\n",
              "      <td>101.831122</td>\n",
              "      <td>0.062518</td>\n",
              "      <td>0.571363</td>\n",
              "      <td>NaN</td>\n",
              "      <td>NaN</td>\n",
              "    </tr>\n",
              "    <tr>\n",
              "      <th>std</th>\n",
              "      <td>NaN</td>\n",
              "      <td>0.482918</td>\n",
              "      <td>106.863097</td>\n",
              "      <td>0.707476</td>\n",
              "      <td>NaN</td>\n",
              "      <td>13.605138</td>\n",
              "      <td>8.780829</td>\n",
              "      <td>0.998613</td>\n",
              "      <td>1.908286</td>\n",
              "      <td>0.579261</td>\n",
              "      <td>...</td>\n",
              "      <td>NaN</td>\n",
              "      <td>110.774548</td>\n",
              "      <td>131.655015</td>\n",
              "      <td>17.594721</td>\n",
              "      <td>NaN</td>\n",
              "      <td>50.535790</td>\n",
              "      <td>0.245291</td>\n",
              "      <td>0.792798</td>\n",
              "      <td>NaN</td>\n",
              "      <td>NaN</td>\n",
              "    </tr>\n",
              "    <tr>\n",
              "      <th>min</th>\n",
              "      <td>NaN</td>\n",
              "      <td>0.000000</td>\n",
              "      <td>0.000000</td>\n",
              "      <td>2015.000000</td>\n",
              "      <td>NaN</td>\n",
              "      <td>1.000000</td>\n",
              "      <td>1.000000</td>\n",
              "      <td>0.000000</td>\n",
              "      <td>0.000000</td>\n",
              "      <td>0.000000</td>\n",
              "      <td>...</td>\n",
              "      <td>NaN</td>\n",
              "      <td>1.000000</td>\n",
              "      <td>6.000000</td>\n",
              "      <td>0.000000</td>\n",
              "      <td>NaN</td>\n",
              "      <td>-6.380000</td>\n",
              "      <td>0.000000</td>\n",
              "      <td>0.000000</td>\n",
              "      <td>NaN</td>\n",
              "      <td>NaN</td>\n",
              "    </tr>\n",
              "    <tr>\n",
              "      <th>25%</th>\n",
              "      <td>NaN</td>\n",
              "      <td>0.000000</td>\n",
              "      <td>18.000000</td>\n",
              "      <td>2016.000000</td>\n",
              "      <td>NaN</td>\n",
              "      <td>16.000000</td>\n",
              "      <td>8.000000</td>\n",
              "      <td>0.000000</td>\n",
              "      <td>1.000000</td>\n",
              "      <td>2.000000</td>\n",
              "      <td>...</td>\n",
              "      <td>NaN</td>\n",
              "      <td>9.000000</td>\n",
              "      <td>62.000000</td>\n",
              "      <td>0.000000</td>\n",
              "      <td>NaN</td>\n",
              "      <td>69.290000</td>\n",
              "      <td>0.000000</td>\n",
              "      <td>0.000000</td>\n",
              "      <td>NaN</td>\n",
              "      <td>NaN</td>\n",
              "    </tr>\n",
              "    <tr>\n",
              "      <th>50%</th>\n",
              "      <td>NaN</td>\n",
              "      <td>0.000000</td>\n",
              "      <td>69.000000</td>\n",
              "      <td>2016.000000</td>\n",
              "      <td>NaN</td>\n",
              "      <td>28.000000</td>\n",
              "      <td>16.000000</td>\n",
              "      <td>1.000000</td>\n",
              "      <td>2.000000</td>\n",
              "      <td>2.000000</td>\n",
              "      <td>...</td>\n",
              "      <td>NaN</td>\n",
              "      <td>14.000000</td>\n",
              "      <td>179.000000</td>\n",
              "      <td>0.000000</td>\n",
              "      <td>NaN</td>\n",
              "      <td>94.575000</td>\n",
              "      <td>0.000000</td>\n",
              "      <td>0.000000</td>\n",
              "      <td>NaN</td>\n",
              "      <td>NaN</td>\n",
              "    </tr>\n",
              "    <tr>\n",
              "      <th>75%</th>\n",
              "      <td>NaN</td>\n",
              "      <td>1.000000</td>\n",
              "      <td>160.000000</td>\n",
              "      <td>2017.000000</td>\n",
              "      <td>NaN</td>\n",
              "      <td>38.000000</td>\n",
              "      <td>23.000000</td>\n",
              "      <td>2.000000</td>\n",
              "      <td>3.000000</td>\n",
              "      <td>2.000000</td>\n",
              "      <td>...</td>\n",
              "      <td>NaN</td>\n",
              "      <td>229.000000</td>\n",
              "      <td>270.000000</td>\n",
              "      <td>0.000000</td>\n",
              "      <td>NaN</td>\n",
              "      <td>126.000000</td>\n",
              "      <td>0.000000</td>\n",
              "      <td>1.000000</td>\n",
              "      <td>NaN</td>\n",
              "      <td>NaN</td>\n",
              "    </tr>\n",
              "    <tr>\n",
              "      <th>max</th>\n",
              "      <td>NaN</td>\n",
              "      <td>1.000000</td>\n",
              "      <td>737.000000</td>\n",
              "      <td>2017.000000</td>\n",
              "      <td>NaN</td>\n",
              "      <td>53.000000</td>\n",
              "      <td>31.000000</td>\n",
              "      <td>19.000000</td>\n",
              "      <td>50.000000</td>\n",
              "      <td>55.000000</td>\n",
              "      <td>...</td>\n",
              "      <td>NaN</td>\n",
              "      <td>535.000000</td>\n",
              "      <td>543.000000</td>\n",
              "      <td>391.000000</td>\n",
              "      <td>NaN</td>\n",
              "      <td>5400.000000</td>\n",
              "      <td>8.000000</td>\n",
              "      <td>5.000000</td>\n",
              "      <td>NaN</td>\n",
              "      <td>NaN</td>\n",
              "    </tr>\n",
              "  </tbody>\n",
              "</table>\n",
              "<p>11 rows × 32 columns</p>\n",
              "</div>\n",
              "      <button class=\"colab-df-convert\" onclick=\"convertToInteractive('df-5d114f81-8dfe-468c-b892-261c8e8d1a07')\"\n",
              "              title=\"Convert this dataframe to an interactive table.\"\n",
              "              style=\"display:none;\">\n",
              "        \n",
              "  <svg xmlns=\"http://www.w3.org/2000/svg\" height=\"24px\"viewBox=\"0 0 24 24\"\n",
              "       width=\"24px\">\n",
              "    <path d=\"M0 0h24v24H0V0z\" fill=\"none\"/>\n",
              "    <path d=\"M18.56 5.44l.94 2.06.94-2.06 2.06-.94-2.06-.94-.94-2.06-.94 2.06-2.06.94zm-11 1L8.5 8.5l.94-2.06 2.06-.94-2.06-.94L8.5 2.5l-.94 2.06-2.06.94zm10 10l.94 2.06.94-2.06 2.06-.94-2.06-.94-.94-2.06-.94 2.06-2.06.94z\"/><path d=\"M17.41 7.96l-1.37-1.37c-.4-.4-.92-.59-1.43-.59-.52 0-1.04.2-1.43.59L10.3 9.45l-7.72 7.72c-.78.78-.78 2.05 0 2.83L4 21.41c.39.39.9.59 1.41.59.51 0 1.02-.2 1.41-.59l7.78-7.78 2.81-2.81c.8-.78.8-2.07 0-2.86zM5.41 20L4 18.59l7.72-7.72 1.47 1.35L5.41 20z\"/>\n",
              "  </svg>\n",
              "      </button>\n",
              "      \n",
              "  <style>\n",
              "    .colab-df-container {\n",
              "      display:flex;\n",
              "      flex-wrap:wrap;\n",
              "      gap: 12px;\n",
              "    }\n",
              "\n",
              "    .colab-df-convert {\n",
              "      background-color: #E8F0FE;\n",
              "      border: none;\n",
              "      border-radius: 50%;\n",
              "      cursor: pointer;\n",
              "      display: none;\n",
              "      fill: #1967D2;\n",
              "      height: 32px;\n",
              "      padding: 0 0 0 0;\n",
              "      width: 32px;\n",
              "    }\n",
              "\n",
              "    .colab-df-convert:hover {\n",
              "      background-color: #E2EBFA;\n",
              "      box-shadow: 0px 1px 2px rgba(60, 64, 67, 0.3), 0px 1px 3px 1px rgba(60, 64, 67, 0.15);\n",
              "      fill: #174EA6;\n",
              "    }\n",
              "\n",
              "    [theme=dark] .colab-df-convert {\n",
              "      background-color: #3B4455;\n",
              "      fill: #D2E3FC;\n",
              "    }\n",
              "\n",
              "    [theme=dark] .colab-df-convert:hover {\n",
              "      background-color: #434B5C;\n",
              "      box-shadow: 0px 1px 3px 1px rgba(0, 0, 0, 0.15);\n",
              "      filter: drop-shadow(0px 1px 2px rgba(0, 0, 0, 0.3));\n",
              "      fill: #FFFFFF;\n",
              "    }\n",
              "  </style>\n",
              "\n",
              "      <script>\n",
              "        const buttonEl =\n",
              "          document.querySelector('#df-5d114f81-8dfe-468c-b892-261c8e8d1a07 button.colab-df-convert');\n",
              "        buttonEl.style.display =\n",
              "          google.colab.kernel.accessAllowed ? 'block' : 'none';\n",
              "\n",
              "        async function convertToInteractive(key) {\n",
              "          const element = document.querySelector('#df-5d114f81-8dfe-468c-b892-261c8e8d1a07');\n",
              "          const dataTable =\n",
              "            await google.colab.kernel.invokeFunction('convertToInteractive',\n",
              "                                                     [key], {});\n",
              "          if (!dataTable) return;\n",
              "\n",
              "          const docLinkHtml = 'Like what you see? Visit the ' +\n",
              "            '<a target=\"_blank\" href=https://colab.research.google.com/notebooks/data_table.ipynb>data table notebook</a>'\n",
              "            + ' to learn more about interactive tables.';\n",
              "          element.innerHTML = '';\n",
              "          dataTable['output_type'] = 'display_data';\n",
              "          await google.colab.output.renderOutput(dataTable, element);\n",
              "          const docLink = document.createElement('div');\n",
              "          docLink.innerHTML = docLinkHtml;\n",
              "          element.appendChild(docLink);\n",
              "        }\n",
              "      </script>\n",
              "    </div>\n",
              "  </div>\n",
              "  "
            ]
          },
          "metadata": {},
          "execution_count": 9
        }
      ],
      "source": [
        "# Now we will understand the numerical information of our data.\n",
        "hotel_booking_df.describe(include ='all')"
      ]
    },
    {
      "cell_type": "markdown",
      "metadata": {
        "id": "34GrRVUjpQgt"
      },
      "source": [
        "## By using (include = 'all') we can explore more about our coloums, such as its total no. of count, no. of unique values, frequency, etc."
      ]
    },
    {
      "cell_type": "markdown",
      "metadata": {
        "id": "L_BmULQcqmiI"
      },
      "source": [
        "## Next step we will take is to figue out the count of null values in different columns "
      ]
    },
    {
      "cell_type": "code",
      "execution_count": 10,
      "metadata": {
        "colab": {
          "base_uri": "https://localhost:8080/"
        },
        "id": "A8iiZib_pSrD",
        "outputId": "f0725c4b-6b73-454b-b3cb-9d1559289dd0"
      },
      "outputs": [
        {
          "output_type": "execute_result",
          "data": {
            "text/plain": [
              "company                           112593\n",
              "agent                              16340\n",
              "country                              488\n",
              "children                               4\n",
              "reserved_room_type                     0\n",
              "assigned_room_type                     0\n",
              "booking_changes                        0\n",
              "deposit_type                           0\n",
              "hotel                                  0\n",
              "previous_cancellations                 0\n",
              "days_in_waiting_list                   0\n",
              "customer_type                          0\n",
              "adr                                    0\n",
              "required_car_parking_spaces            0\n",
              "total_of_special_requests              0\n",
              "reservation_status                     0\n",
              "previous_bookings_not_canceled         0\n",
              "is_repeated_guest                      0\n",
              "is_canceled                            0\n",
              "distribution_channel                   0\n",
              "market_segment                         0\n",
              "meal                                   0\n",
              "babies                                 0\n",
              "adults                                 0\n",
              "stays_in_week_nights                   0\n",
              "stays_in_weekend_nights                0\n",
              "arrival_date_day_of_month              0\n",
              "arrival_date_week_number               0\n",
              "arrival_date_month                     0\n",
              "arrival_date_year                      0\n",
              "lead_time                              0\n",
              "reservation_status_date                0\n",
              "dtype: int64"
            ]
          },
          "metadata": {},
          "execution_count": 10
        }
      ],
      "source": [
        "hotel_booking_df.isna().sum().sort_values(ascending = False)"
      ]
    },
    {
      "cell_type": "markdown",
      "metadata": {
        "id": "Q1yCGDOurAbS"
      },
      "source": [
        "## As we can clearly see that there are four coloumns containing the null values namely country, agent, company and children."
      ]
    },
    {
      "cell_type": "markdown",
      "metadata": {
        "id": "x0dBJJJa3hnP"
      },
      "source": [
        "\n",
        "## Taking notes of the result will help us in the analysis the dataset and exploring the different correlation "
      ]
    },
    {
      "cell_type": "code",
      "execution_count": 11,
      "metadata": {
        "colab": {
          "base_uri": "https://localhost:8080/",
          "height": 1000
        },
        "id": "DPZiHfKGrSHy",
        "outputId": "3401bae9-f99f-4b24-e444-f0fe9aac0697"
      },
      "outputs": [
        {
          "output_type": "execute_result",
          "data": {
            "text/plain": [
              "                            Column    Dtype    Null  nUnique  \\\n",
              "0                            hotel   object       0        2   \n",
              "1                      is_canceled    int64       0        2   \n",
              "2                        lead_time    int64       0      479   \n",
              "3                arrival_date_year    int64       0        3   \n",
              "4               arrival_date_month   object       0       12   \n",
              "5         arrival_date_week_number    int64       0       53   \n",
              "6        arrival_date_day_of_month    int64       0       31   \n",
              "7          stays_in_weekend_nights    int64       0       17   \n",
              "8             stays_in_week_nights    int64       0       35   \n",
              "9                           adults    int64       0       14   \n",
              "10                        children  float64       4        5   \n",
              "11                          babies    int64       0        5   \n",
              "12                            meal   object       0        5   \n",
              "13                         country   object     488      177   \n",
              "14                  market_segment   object       0        8   \n",
              "15            distribution_channel   object       0        5   \n",
              "16               is_repeated_guest    int64       0        2   \n",
              "17          previous_cancellations    int64       0       15   \n",
              "18  previous_bookings_not_canceled    int64       0       73   \n",
              "19              reserved_room_type   object       0       10   \n",
              "20              assigned_room_type   object       0       12   \n",
              "21                 booking_changes    int64       0       21   \n",
              "22                    deposit_type   object       0        3   \n",
              "23                           agent  float64   16340      333   \n",
              "24                         company  float64  112593      352   \n",
              "25            days_in_waiting_list    int64       0      128   \n",
              "26                   customer_type   object       0        4   \n",
              "27                             adr  float64       0     8879   \n",
              "28     required_car_parking_spaces    int64       0        5   \n",
              "29       total_of_special_requests    int64       0        6   \n",
              "30              reservation_status   object       0        3   \n",
              "31         reservation_status_date   object       0      926   \n",
              "\n",
              "                                               Unique  \n",
              "0                          [Resort Hotel, City Hotel]  \n",
              "1                                              [0, 1]  \n",
              "2   [342, 737, 7, 13, 14, 0, 9, 85, 75, 23, 35, 68...  \n",
              "3                                  [2015, 2016, 2017]  \n",
              "4   [July, August, September, October, November, D...  \n",
              "5   [27, 28, 29, 30, 31, 32, 33, 34, 35, 36, 37, 3...  \n",
              "6   [1, 2, 3, 4, 5, 6, 7, 8, 9, 10, 11, 12, 13, 14...  \n",
              "7   [0, 1, 2, 4, 3, 6, 13, 8, 5, 7, 12, 9, 16, 18,...  \n",
              "8   [0, 1, 2, 3, 4, 5, 10, 11, 8, 6, 7, 15, 9, 12,...  \n",
              "9   [2, 1, 3, 4, 40, 26, 50, 27, 55, 0, 20, 6, 5, 10]  \n",
              "10                    [0.0, 1.0, 2.0, 10.0, 3.0, nan]  \n",
              "11                                   [0, 1, 2, 10, 9]  \n",
              "12                        [BB, FB, HB, SC, Undefined]  \n",
              "13  [PRT, GBR, USA, ESP, IRL, FRA, nan, ROU, NOR, ...  \n",
              "14  [Direct, Corporate, Online TA, Offline TA/TO, ...  \n",
              "15         [Direct, Corporate, TA/TO, Undefined, GDS]  \n",
              "16                                             [0, 1]  \n",
              "17  [0, 1, 2, 3, 26, 25, 14, 4, 24, 19, 5, 21, 6, ...  \n",
              "18  [0, 1, 2, 3, 4, 5, 6, 7, 8, 9, 10, 11, 12, 13,...  \n",
              "19                     [C, A, D, E, G, F, H, L, P, B]  \n",
              "20               [C, A, D, E, G, F, I, B, H, P, L, K]  \n",
              "21  [3, 4, 0, 1, 2, 5, 17, 6, 8, 7, 10, 16, 9, 13,...  \n",
              "22               [No Deposit, Refundable, Non Refund]  \n",
              "23  [nan, 304.0, 240.0, 303.0, 15.0, 241.0, 8.0, 2...  \n",
              "24  [nan, 110.0, 113.0, 270.0, 178.0, 240.0, 154.0...  \n",
              "25  [0, 50, 47, 65, 122, 75, 101, 150, 125, 14, 60...  \n",
              "26      [Transient, Contract, Transient-Party, Group]  \n",
              "27  [0.0, 75.0, 98.0, 107.0, 103.0, 82.0, 105.5, 1...  \n",
              "28                                    [0, 1, 2, 8, 3]  \n",
              "29                                 [0, 1, 3, 2, 4, 5]  \n",
              "30                     [Check-Out, Canceled, No-Show]  \n",
              "31  [2015-07-01, 2015-07-02, 2015-07-03, 2015-05-0...  "
            ],
            "text/html": [
              "\n",
              "  <div id=\"df-74f68e5d-9e08-4b71-ad51-4c6b21740c84\">\n",
              "    <div class=\"colab-df-container\">\n",
              "      <div>\n",
              "<style scoped>\n",
              "    .dataframe tbody tr th:only-of-type {\n",
              "        vertical-align: middle;\n",
              "    }\n",
              "\n",
              "    .dataframe tbody tr th {\n",
              "        vertical-align: top;\n",
              "    }\n",
              "\n",
              "    .dataframe thead th {\n",
              "        text-align: right;\n",
              "    }\n",
              "</style>\n",
              "<table border=\"1\" class=\"dataframe\">\n",
              "  <thead>\n",
              "    <tr style=\"text-align: right;\">\n",
              "      <th></th>\n",
              "      <th>Column</th>\n",
              "      <th>Dtype</th>\n",
              "      <th>Null</th>\n",
              "      <th>nUnique</th>\n",
              "      <th>Unique</th>\n",
              "    </tr>\n",
              "  </thead>\n",
              "  <tbody>\n",
              "    <tr>\n",
              "      <th>0</th>\n",
              "      <td>hotel</td>\n",
              "      <td>object</td>\n",
              "      <td>0</td>\n",
              "      <td>2</td>\n",
              "      <td>[Resort Hotel, City Hotel]</td>\n",
              "    </tr>\n",
              "    <tr>\n",
              "      <th>1</th>\n",
              "      <td>is_canceled</td>\n",
              "      <td>int64</td>\n",
              "      <td>0</td>\n",
              "      <td>2</td>\n",
              "      <td>[0, 1]</td>\n",
              "    </tr>\n",
              "    <tr>\n",
              "      <th>2</th>\n",
              "      <td>lead_time</td>\n",
              "      <td>int64</td>\n",
              "      <td>0</td>\n",
              "      <td>479</td>\n",
              "      <td>[342, 737, 7, 13, 14, 0, 9, 85, 75, 23, 35, 68...</td>\n",
              "    </tr>\n",
              "    <tr>\n",
              "      <th>3</th>\n",
              "      <td>arrival_date_year</td>\n",
              "      <td>int64</td>\n",
              "      <td>0</td>\n",
              "      <td>3</td>\n",
              "      <td>[2015, 2016, 2017]</td>\n",
              "    </tr>\n",
              "    <tr>\n",
              "      <th>4</th>\n",
              "      <td>arrival_date_month</td>\n",
              "      <td>object</td>\n",
              "      <td>0</td>\n",
              "      <td>12</td>\n",
              "      <td>[July, August, September, October, November, D...</td>\n",
              "    </tr>\n",
              "    <tr>\n",
              "      <th>5</th>\n",
              "      <td>arrival_date_week_number</td>\n",
              "      <td>int64</td>\n",
              "      <td>0</td>\n",
              "      <td>53</td>\n",
              "      <td>[27, 28, 29, 30, 31, 32, 33, 34, 35, 36, 37, 3...</td>\n",
              "    </tr>\n",
              "    <tr>\n",
              "      <th>6</th>\n",
              "      <td>arrival_date_day_of_month</td>\n",
              "      <td>int64</td>\n",
              "      <td>0</td>\n",
              "      <td>31</td>\n",
              "      <td>[1, 2, 3, 4, 5, 6, 7, 8, 9, 10, 11, 12, 13, 14...</td>\n",
              "    </tr>\n",
              "    <tr>\n",
              "      <th>7</th>\n",
              "      <td>stays_in_weekend_nights</td>\n",
              "      <td>int64</td>\n",
              "      <td>0</td>\n",
              "      <td>17</td>\n",
              "      <td>[0, 1, 2, 4, 3, 6, 13, 8, 5, 7, 12, 9, 16, 18,...</td>\n",
              "    </tr>\n",
              "    <tr>\n",
              "      <th>8</th>\n",
              "      <td>stays_in_week_nights</td>\n",
              "      <td>int64</td>\n",
              "      <td>0</td>\n",
              "      <td>35</td>\n",
              "      <td>[0, 1, 2, 3, 4, 5, 10, 11, 8, 6, 7, 15, 9, 12,...</td>\n",
              "    </tr>\n",
              "    <tr>\n",
              "      <th>9</th>\n",
              "      <td>adults</td>\n",
              "      <td>int64</td>\n",
              "      <td>0</td>\n",
              "      <td>14</td>\n",
              "      <td>[2, 1, 3, 4, 40, 26, 50, 27, 55, 0, 20, 6, 5, 10]</td>\n",
              "    </tr>\n",
              "    <tr>\n",
              "      <th>10</th>\n",
              "      <td>children</td>\n",
              "      <td>float64</td>\n",
              "      <td>4</td>\n",
              "      <td>5</td>\n",
              "      <td>[0.0, 1.0, 2.0, 10.0, 3.0, nan]</td>\n",
              "    </tr>\n",
              "    <tr>\n",
              "      <th>11</th>\n",
              "      <td>babies</td>\n",
              "      <td>int64</td>\n",
              "      <td>0</td>\n",
              "      <td>5</td>\n",
              "      <td>[0, 1, 2, 10, 9]</td>\n",
              "    </tr>\n",
              "    <tr>\n",
              "      <th>12</th>\n",
              "      <td>meal</td>\n",
              "      <td>object</td>\n",
              "      <td>0</td>\n",
              "      <td>5</td>\n",
              "      <td>[BB, FB, HB, SC, Undefined]</td>\n",
              "    </tr>\n",
              "    <tr>\n",
              "      <th>13</th>\n",
              "      <td>country</td>\n",
              "      <td>object</td>\n",
              "      <td>488</td>\n",
              "      <td>177</td>\n",
              "      <td>[PRT, GBR, USA, ESP, IRL, FRA, nan, ROU, NOR, ...</td>\n",
              "    </tr>\n",
              "    <tr>\n",
              "      <th>14</th>\n",
              "      <td>market_segment</td>\n",
              "      <td>object</td>\n",
              "      <td>0</td>\n",
              "      <td>8</td>\n",
              "      <td>[Direct, Corporate, Online TA, Offline TA/TO, ...</td>\n",
              "    </tr>\n",
              "    <tr>\n",
              "      <th>15</th>\n",
              "      <td>distribution_channel</td>\n",
              "      <td>object</td>\n",
              "      <td>0</td>\n",
              "      <td>5</td>\n",
              "      <td>[Direct, Corporate, TA/TO, Undefined, GDS]</td>\n",
              "    </tr>\n",
              "    <tr>\n",
              "      <th>16</th>\n",
              "      <td>is_repeated_guest</td>\n",
              "      <td>int64</td>\n",
              "      <td>0</td>\n",
              "      <td>2</td>\n",
              "      <td>[0, 1]</td>\n",
              "    </tr>\n",
              "    <tr>\n",
              "      <th>17</th>\n",
              "      <td>previous_cancellations</td>\n",
              "      <td>int64</td>\n",
              "      <td>0</td>\n",
              "      <td>15</td>\n",
              "      <td>[0, 1, 2, 3, 26, 25, 14, 4, 24, 19, 5, 21, 6, ...</td>\n",
              "    </tr>\n",
              "    <tr>\n",
              "      <th>18</th>\n",
              "      <td>previous_bookings_not_canceled</td>\n",
              "      <td>int64</td>\n",
              "      <td>0</td>\n",
              "      <td>73</td>\n",
              "      <td>[0, 1, 2, 3, 4, 5, 6, 7, 8, 9, 10, 11, 12, 13,...</td>\n",
              "    </tr>\n",
              "    <tr>\n",
              "      <th>19</th>\n",
              "      <td>reserved_room_type</td>\n",
              "      <td>object</td>\n",
              "      <td>0</td>\n",
              "      <td>10</td>\n",
              "      <td>[C, A, D, E, G, F, H, L, P, B]</td>\n",
              "    </tr>\n",
              "    <tr>\n",
              "      <th>20</th>\n",
              "      <td>assigned_room_type</td>\n",
              "      <td>object</td>\n",
              "      <td>0</td>\n",
              "      <td>12</td>\n",
              "      <td>[C, A, D, E, G, F, I, B, H, P, L, K]</td>\n",
              "    </tr>\n",
              "    <tr>\n",
              "      <th>21</th>\n",
              "      <td>booking_changes</td>\n",
              "      <td>int64</td>\n",
              "      <td>0</td>\n",
              "      <td>21</td>\n",
              "      <td>[3, 4, 0, 1, 2, 5, 17, 6, 8, 7, 10, 16, 9, 13,...</td>\n",
              "    </tr>\n",
              "    <tr>\n",
              "      <th>22</th>\n",
              "      <td>deposit_type</td>\n",
              "      <td>object</td>\n",
              "      <td>0</td>\n",
              "      <td>3</td>\n",
              "      <td>[No Deposit, Refundable, Non Refund]</td>\n",
              "    </tr>\n",
              "    <tr>\n",
              "      <th>23</th>\n",
              "      <td>agent</td>\n",
              "      <td>float64</td>\n",
              "      <td>16340</td>\n",
              "      <td>333</td>\n",
              "      <td>[nan, 304.0, 240.0, 303.0, 15.0, 241.0, 8.0, 2...</td>\n",
              "    </tr>\n",
              "    <tr>\n",
              "      <th>24</th>\n",
              "      <td>company</td>\n",
              "      <td>float64</td>\n",
              "      <td>112593</td>\n",
              "      <td>352</td>\n",
              "      <td>[nan, 110.0, 113.0, 270.0, 178.0, 240.0, 154.0...</td>\n",
              "    </tr>\n",
              "    <tr>\n",
              "      <th>25</th>\n",
              "      <td>days_in_waiting_list</td>\n",
              "      <td>int64</td>\n",
              "      <td>0</td>\n",
              "      <td>128</td>\n",
              "      <td>[0, 50, 47, 65, 122, 75, 101, 150, 125, 14, 60...</td>\n",
              "    </tr>\n",
              "    <tr>\n",
              "      <th>26</th>\n",
              "      <td>customer_type</td>\n",
              "      <td>object</td>\n",
              "      <td>0</td>\n",
              "      <td>4</td>\n",
              "      <td>[Transient, Contract, Transient-Party, Group]</td>\n",
              "    </tr>\n",
              "    <tr>\n",
              "      <th>27</th>\n",
              "      <td>adr</td>\n",
              "      <td>float64</td>\n",
              "      <td>0</td>\n",
              "      <td>8879</td>\n",
              "      <td>[0.0, 75.0, 98.0, 107.0, 103.0, 82.0, 105.5, 1...</td>\n",
              "    </tr>\n",
              "    <tr>\n",
              "      <th>28</th>\n",
              "      <td>required_car_parking_spaces</td>\n",
              "      <td>int64</td>\n",
              "      <td>0</td>\n",
              "      <td>5</td>\n",
              "      <td>[0, 1, 2, 8, 3]</td>\n",
              "    </tr>\n",
              "    <tr>\n",
              "      <th>29</th>\n",
              "      <td>total_of_special_requests</td>\n",
              "      <td>int64</td>\n",
              "      <td>0</td>\n",
              "      <td>6</td>\n",
              "      <td>[0, 1, 3, 2, 4, 5]</td>\n",
              "    </tr>\n",
              "    <tr>\n",
              "      <th>30</th>\n",
              "      <td>reservation_status</td>\n",
              "      <td>object</td>\n",
              "      <td>0</td>\n",
              "      <td>3</td>\n",
              "      <td>[Check-Out, Canceled, No-Show]</td>\n",
              "    </tr>\n",
              "    <tr>\n",
              "      <th>31</th>\n",
              "      <td>reservation_status_date</td>\n",
              "      <td>object</td>\n",
              "      <td>0</td>\n",
              "      <td>926</td>\n",
              "      <td>[2015-07-01, 2015-07-02, 2015-07-03, 2015-05-0...</td>\n",
              "    </tr>\n",
              "  </tbody>\n",
              "</table>\n",
              "</div>\n",
              "      <button class=\"colab-df-convert\" onclick=\"convertToInteractive('df-74f68e5d-9e08-4b71-ad51-4c6b21740c84')\"\n",
              "              title=\"Convert this dataframe to an interactive table.\"\n",
              "              style=\"display:none;\">\n",
              "        \n",
              "  <svg xmlns=\"http://www.w3.org/2000/svg\" height=\"24px\"viewBox=\"0 0 24 24\"\n",
              "       width=\"24px\">\n",
              "    <path d=\"M0 0h24v24H0V0z\" fill=\"none\"/>\n",
              "    <path d=\"M18.56 5.44l.94 2.06.94-2.06 2.06-.94-2.06-.94-.94-2.06-.94 2.06-2.06.94zm-11 1L8.5 8.5l.94-2.06 2.06-.94-2.06-.94L8.5 2.5l-.94 2.06-2.06.94zm10 10l.94 2.06.94-2.06 2.06-.94-2.06-.94-.94-2.06-.94 2.06-2.06.94z\"/><path d=\"M17.41 7.96l-1.37-1.37c-.4-.4-.92-.59-1.43-.59-.52 0-1.04.2-1.43.59L10.3 9.45l-7.72 7.72c-.78.78-.78 2.05 0 2.83L4 21.41c.39.39.9.59 1.41.59.51 0 1.02-.2 1.41-.59l7.78-7.78 2.81-2.81c.8-.78.8-2.07 0-2.86zM5.41 20L4 18.59l7.72-7.72 1.47 1.35L5.41 20z\"/>\n",
              "  </svg>\n",
              "      </button>\n",
              "      \n",
              "  <style>\n",
              "    .colab-df-container {\n",
              "      display:flex;\n",
              "      flex-wrap:wrap;\n",
              "      gap: 12px;\n",
              "    }\n",
              "\n",
              "    .colab-df-convert {\n",
              "      background-color: #E8F0FE;\n",
              "      border: none;\n",
              "      border-radius: 50%;\n",
              "      cursor: pointer;\n",
              "      display: none;\n",
              "      fill: #1967D2;\n",
              "      height: 32px;\n",
              "      padding: 0 0 0 0;\n",
              "      width: 32px;\n",
              "    }\n",
              "\n",
              "    .colab-df-convert:hover {\n",
              "      background-color: #E2EBFA;\n",
              "      box-shadow: 0px 1px 2px rgba(60, 64, 67, 0.3), 0px 1px 3px 1px rgba(60, 64, 67, 0.15);\n",
              "      fill: #174EA6;\n",
              "    }\n",
              "\n",
              "    [theme=dark] .colab-df-convert {\n",
              "      background-color: #3B4455;\n",
              "      fill: #D2E3FC;\n",
              "    }\n",
              "\n",
              "    [theme=dark] .colab-df-convert:hover {\n",
              "      background-color: #434B5C;\n",
              "      box-shadow: 0px 1px 3px 1px rgba(0, 0, 0, 0.15);\n",
              "      filter: drop-shadow(0px 1px 2px rgba(0, 0, 0, 0.3));\n",
              "      fill: #FFFFFF;\n",
              "    }\n",
              "  </style>\n",
              "\n",
              "      <script>\n",
              "        const buttonEl =\n",
              "          document.querySelector('#df-74f68e5d-9e08-4b71-ad51-4c6b21740c84 button.colab-df-convert');\n",
              "        buttonEl.style.display =\n",
              "          google.colab.kernel.accessAllowed ? 'block' : 'none';\n",
              "\n",
              "        async function convertToInteractive(key) {\n",
              "          const element = document.querySelector('#df-74f68e5d-9e08-4b71-ad51-4c6b21740c84');\n",
              "          const dataTable =\n",
              "            await google.colab.kernel.invokeFunction('convertToInteractive',\n",
              "                                                     [key], {});\n",
              "          if (!dataTable) return;\n",
              "\n",
              "          const docLinkHtml = 'Like what you see? Visit the ' +\n",
              "            '<a target=\"_blank\" href=https://colab.research.google.com/notebooks/data_table.ipynb>data table notebook</a>'\n",
              "            + ' to learn more about interactive tables.';\n",
              "          element.innerHTML = '';\n",
              "          dataTable['output_type'] = 'display_data';\n",
              "          await google.colab.output.renderOutput(dataTable, element);\n",
              "          const docLink = document.createElement('div');\n",
              "          docLink.innerHTML = docLinkHtml;\n",
              "          element.appendChild(docLink);\n",
              "        }\n",
              "      </script>\n",
              "    </div>\n",
              "  </div>\n",
              "  "
            ]
          },
          "metadata": {},
          "execution_count": 11
        }
      ],
      "source": [
        "hotel_booking_exploring_table = [[column,hotel_booking_df[column].dtypes,hotel_booking_df[column].isnull().sum(),hotel_booking_df[column].nunique(),\n",
        "                                   hotel_booking_df[column].unique()] for column in hotel_booking_df.columns] \n",
        "                                   \n",
        "hotel_booking_df_exploring_table = pd.DataFrame(hotel_booking_exploring_table,columns = ['Column', 'Dtype', 'Null','nUnique', 'Unique'])\n",
        "\n",
        "hotel_booking_df_exploring_table \n"
      ]
    },
    {
      "cell_type": "markdown",
      "metadata": {
        "id": "DhQwdnNi6v-5"
      },
      "source": [
        "Data integrity is necessary to ensure a successful analysis\n",
        "# In section we will take all the necessary measures to ensure that the data is clean and ready for analysis."
      ]
    },
    {
      "cell_type": "markdown",
      "metadata": {
        "id": "QM6bgJ8x9tDk"
      },
      "source": [
        "## we will create the copy of our original data"
      ]
    },
    {
      "cell_type": "code",
      "execution_count": 50,
      "metadata": {
        "id": "4Ite3mEM76VU"
      },
      "outputs": [],
      "source": [
        "# we will create the copy of our original data\n",
        "df_hotel_booking = hotel_booking_df.copy()"
      ]
    },
    {
      "cell_type": "markdown",
      "metadata": {
        "id": "I2GVaQAu-Q3U"
      },
      "source": [
        "# As we know that there are four coloumns containing the null values namely country, agent, company and children. \n",
        "# We will replace or fill these null values "
      ]
    },
    {
      "cell_type": "markdown",
      "metadata": {
        "id": "8oUc7wY3_DYz"
      },
      "source": [
        "Filling null values with 0 of company column."
      ]
    },
    {
      "cell_type": "code",
      "execution_count": 53,
      "metadata": {
        "id": "2_zlSike-r7n"
      },
      "outputs": [],
      "source": [
        "# Filling null values with 0 of company column.\n",
        "df_hotel_booking ['company'].fillna(0 , inplace = True) "
      ]
    },
    {
      "cell_type": "markdown",
      "metadata": {
        "id": "fnU8oHa0_Lwg"
      },
      "source": [
        "Filling null values with 0 of agent column.       "
      ]
    },
    {
      "cell_type": "code",
      "execution_count": 54,
      "metadata": {
        "id": "qjBtblAO_FOC"
      },
      "outputs": [],
      "source": [
        "# Filling null values with 0 of agent column.          \n",
        "df_hotel_booking['agent'].fillna(0 , inplace = True)  "
      ]
    },
    {
      "cell_type": "markdown",
      "metadata": {
        "id": "XuGCGe00_iTD"
      },
      "source": [
        "Replacig the null values with others in country coloumn."
      ]
    },
    {
      "cell_type": "code",
      "execution_count": 55,
      "metadata": {
        "id": "GFxAi1HO_nf0"
      },
      "outputs": [],
      "source": [
        "# Replacig the null values with 'others' in country coloumn.\n",
        "df_hotel_booking['country'].fillna('Others',inplace = True)"
      ]
    },
    {
      "cell_type": "markdown",
      "metadata": {
        "id": "E1hIIYXa_7vA"
      },
      "source": [
        "Filling null values with its mean value of children column."
      ]
    },
    {
      "cell_type": "code",
      "execution_count": 56,
      "metadata": {
        "id": "bex3qTtW_9gi"
      },
      "outputs": [],
      "source": [
        "# Filling null values with its 'mean' of children column.\n",
        "df_hotel_booking['children'].fillna(df_hotel_booking.children.mean(), inplace = True)"
      ]
    },
    {
      "cell_type": "markdown",
      "metadata": {
        "id": "5d_hveWfBeHo"
      },
      "source": [
        "## In the datatype verification we saw that the numerical column agent, company and children have float64 datatype so we will convert it to int64 datatype"
      ]
    },
    {
      "cell_type": "markdown",
      "metadata": {
        "id": "smixrgYQCamf"
      },
      "source": [
        "Converting company column datatype for float64 to int64"
      ]
    },
    {
      "cell_type": "code",
      "execution_count": 57,
      "metadata": {
        "id": "4XIqMNEeBd2c"
      },
      "outputs": [],
      "source": [
        "df_hotel_booking['company'] = df_hotel_booking['company'].astype(int) "
      ]
    },
    {
      "cell_type": "markdown",
      "metadata": {
        "id": "VSQntM35EV9m"
      },
      "source": [
        "Converting children column datatype for float64 to int64"
      ]
    },
    {
      "cell_type": "code",
      "execution_count": 58,
      "metadata": {
        "id": "Ccl5p2O7EVWx"
      },
      "outputs": [],
      "source": [
        "df_hotel_booking['children'] = df_hotel_booking['children'].astype(int) "
      ]
    },
    {
      "cell_type": "markdown",
      "metadata": {
        "id": "XzQCoye0Eyqq"
      },
      "source": [
        "Converting agent column datatype for float64 to int64"
      ]
    },
    {
      "cell_type": "code",
      "execution_count": 59,
      "metadata": {
        "id": "bm8DERNZEzDN"
      },
      "outputs": [],
      "source": [
        "df_hotel_booking['agent'] = df_hotel_booking['agent'].astype(int) "
      ]
    },
    {
      "cell_type": "markdown",
      "source": [
        "# Now we will remove duplicate data which can affect the data analysis"
      ],
      "metadata": {
        "id": "Qm9YigP8xvAK"
      }
    },
    {
      "cell_type": "code",
      "execution_count": 60,
      "metadata": {
        "colab": {
          "base_uri": "https://localhost:8080/"
        },
        "id": "JRQApErtIcV6",
        "outputId": "ad4da9bc-9f3d-4991-d8b8-cefe86baf906"
      },
      "outputs": [
        {
          "output_type": "execute_result",
          "data": {
            "text/plain": [
              "(31994, 32)"
            ]
          },
          "metadata": {},
          "execution_count": 60
        }
      ],
      "source": [
        "df_hotel_booking[df_hotel_booking.duplicated()].shape"
      ]
    },
    {
      "cell_type": "markdown",
      "source": [
        "## We see that there are 31994 duplicate observations.\n",
        "\n",
        "## so we will get ride of it as a data cleaning process."
      ],
      "metadata": {
        "id": "OZajVBLxyq_o"
      }
    },
    {
      "cell_type": "code",
      "source": [
        "df_hotel_booking.drop_duplicates(inplace = True)"
      ],
      "metadata": {
        "id": "RYP71QIEykr8"
      },
      "execution_count": 61,
      "outputs": []
    },
    {
      "cell_type": "markdown",
      "source": [
        "## As we see that the sum of Adult,Babies, and Children are zero. This that it is not true data.\n",
        "## So we will drop these observation as a part of data cleaning  "
      ],
      "metadata": {
        "id": "YFZTzNFFzxYi"
      }
    },
    {
      "cell_type": "code",
      "source": [
        "df_hotel_booking[df_hotel_booking.adults + df_hotel_booking.babies + df_hotel_booking.children == 0].shape"
      ],
      "metadata": {
        "colab": {
          "base_uri": "https://localhost:8080/"
        },
        "id": "nZl3_JDRzyCK",
        "outputId": "f6f1c202-c35a-46b8-93ef-e601516461e2"
      },
      "execution_count": 62,
      "outputs": [
        {
          "output_type": "execute_result",
          "data": {
            "text/plain": [
              "(166, 32)"
            ]
          },
          "metadata": {},
          "execution_count": 62
        }
      ]
    },
    {
      "cell_type": "code",
      "source": [
        "df_hotel_booking.drop(df_hotel_booking[df_hotel_booking.adults + df_hotel_booking.babies + df_hotel_booking.children == 0].index, inplace = True)"
      ],
      "metadata": {
        "id": "wEV6G0mA0iac"
      },
      "execution_count": 63,
      "outputs": []
    },
    {
      "cell_type": "markdown",
      "source": [
        "# Now we see the final shape of our data"
      ],
      "metadata": {
        "id": "ksEZ7HF31Wcn"
      }
    },
    {
      "cell_type": "code",
      "source": [
        "df_hotel_booking.shape"
      ],
      "metadata": {
        "colab": {
          "base_uri": "https://localhost:8080/"
        },
        "id": "LS5kcdpn1Top",
        "outputId": "3db45e67-62c6-4048-8004-5536fdf22d2a"
      },
      "execution_count": 64,
      "outputs": [
        {
          "output_type": "execute_result",
          "data": {
            "text/plain": [
              "(87230, 32)"
            ]
          },
          "metadata": {},
          "execution_count": 64
        }
      ]
    },
    {
      "cell_type": "markdown",
      "source": [
        "# We will rename columns to make the data set more understandable and and some new columns for better visualization"
      ],
      "metadata": {
        "id": "9iXw5H9p10Y5"
      }
    },
    {
      "cell_type": "markdown",
      "source": [
        "## Changing the adr column name to average_daily_rate"
      ],
      "metadata": {
        "id": "mHyi6LdV2bmn"
      }
    },
    {
      "cell_type": "code",
      "source": [
        "df_hotel_booking.rename(columns = {'adr' : 'average_daily_rate'}, inplace = True)"
      ],
      "metadata": {
        "id": "yEJwvhfO2aPj"
      },
      "execution_count": 65,
      "outputs": []
    },
    {
      "cell_type": "markdown",
      "source": [
        "# Adding new columns"
      ],
      "metadata": {
        "id": "PRkuNn3E3Ng_"
      }
    },
    {
      "cell_type": "markdown",
      "source": [
        "## adding Total_group_members column for the total numbers of adults,children and babies"
      ],
      "metadata": {
        "id": "MsIcedZn3sx2"
      }
    },
    {
      "cell_type": "code",
      "source": [
        "df_hotel_booking['Total_group_members'] = df_hotel_booking.adults + df_hotel_booking.children + df_hotel_booking.babies"
      ],
      "metadata": {
        "id": "yHMqmpuF3ffY"
      },
      "execution_count": 66,
      "outputs": []
    },
    {
      "cell_type": "markdown",
      "source": [
        "## adding stays_in_weekend_and_weeks column for the total days of stay"
      ],
      "metadata": {
        "id": "1ckD4Gd337OI"
      }
    },
    {
      "cell_type": "code",
      "source": [
        "df_hotel_booking['stays_in_weekend_and_weeks'] = df_hotel_booking.stays_in_weekend_nights + df_hotel_booking.stays_in_week_nights"
      ],
      "metadata": {
        "id": "c_420Qo54Ne9"
      },
      "execution_count": 67,
      "outputs": []
    },
    {
      "cell_type": "code",
      "source": [
        "df_hotel_booking.info()"
      ],
      "metadata": {
        "colab": {
          "base_uri": "https://localhost:8080/"
        },
        "id": "SXBsTSxc4ohW",
        "outputId": "c78e56dc-8e23-4c59-d134-e2d5fb2402f7"
      },
      "execution_count": 71,
      "outputs": [
        {
          "output_type": "stream",
          "name": "stdout",
          "text": [
            "<class 'pandas.core.frame.DataFrame'>\n",
            "Int64Index: 87230 entries, 0 to 119389\n",
            "Data columns (total 34 columns):\n",
            " #   Column                          Non-Null Count  Dtype   \n",
            "---  ------                          --------------  -----   \n",
            " 0   hotel                           87230 non-null  object  \n",
            " 1   is_canceled                     87230 non-null  int64   \n",
            " 2   lead_time                       87230 non-null  int64   \n",
            " 3   arrival_date_year               87230 non-null  int64   \n",
            " 4   arrival_date_month              87230 non-null  category\n",
            " 5   arrival_date_week_number        87230 non-null  int64   \n",
            " 6   arrival_date_day_of_month       87230 non-null  int64   \n",
            " 7   stays_in_weekend_nights         87230 non-null  int64   \n",
            " 8   stays_in_week_nights            87230 non-null  int64   \n",
            " 9   adults                          87230 non-null  int64   \n",
            " 10  children                        87230 non-null  int64   \n",
            " 11  babies                          87230 non-null  int64   \n",
            " 12  meal                            87230 non-null  object  \n",
            " 13  country                         87230 non-null  object  \n",
            " 14  market_segment                  87230 non-null  object  \n",
            " 15  distribution_channel            87230 non-null  object  \n",
            " 16  is_repeated_guest               87230 non-null  int64   \n",
            " 17  previous_cancellations          87230 non-null  int64   \n",
            " 18  previous_bookings_not_canceled  87230 non-null  int64   \n",
            " 19  reserved_room_type              87230 non-null  object  \n",
            " 20  assigned_room_type              87230 non-null  object  \n",
            " 21  booking_changes                 87230 non-null  int64   \n",
            " 22  deposit_type                    87230 non-null  object  \n",
            " 23  agent                           87230 non-null  int64   \n",
            " 24  company                         87230 non-null  int64   \n",
            " 25  days_in_waiting_list            87230 non-null  int64   \n",
            " 26  customer_type                   87230 non-null  object  \n",
            " 27  average_daily_rate              87230 non-null  float64 \n",
            " 28  required_car_parking_spaces     87230 non-null  int64   \n",
            " 29  total_of_special_requests       87230 non-null  int64   \n",
            " 30  reservation_status              87230 non-null  object  \n",
            " 31  reservation_status_date         87230 non-null  object  \n",
            " 32  Total_group_members             87230 non-null  int64   \n",
            " 33  stays_in_weekend_and_weeks      87230 non-null  int64   \n",
            "dtypes: category(1), float64(1), int64(21), object(11)\n",
            "memory usage: 22.7+ MB\n"
          ]
        }
      ]
    },
    {
      "cell_type": "markdown",
      "source": [
        "## Understanding the relation between stays_in_weekend_and_weeks and  average_daily_rate with the help of scatterplot"
      ],
      "metadata": {
        "id": "Wdjitw1PKMUw"
      }
    },
    {
      "cell_type": "code",
      "source": [
        "# Understanding the scenerio using the scatterplot.\n",
        "plt.figure(figsize = (12,6))\n",
        "sns.scatterplot(y = 'average_daily_rate', x = 'stays_in_weekend_and_weeks', data = df_hotel_booking)\n",
        "plt.show()"
      ],
      "metadata": {
        "colab": {
          "base_uri": "https://localhost:8080/",
          "height": 389
        },
        "id": "WFbSaPYbEV6x",
        "outputId": "58e1cb28-63a8-4eac-d99a-6b3b1f31a387"
      },
      "execution_count": 69,
      "outputs": [
        {
          "output_type": "display_data",
          "data": {
            "text/plain": [
              "<Figure size 864x432 with 1 Axes>"
            ],
            "image/png": "[encoded data removed]"
          },
          "metadata": {
            "needs_background": "light"
          }
        }
      ]
    },
    {
      "cell_type": "markdown",
      "source": [
        "# Removing an outlier from average_daily_rate column"
      ],
      "metadata": {
        "id": "-JnQbMybJFo8"
      }
    },
    {
      "cell_type": "code",
      "source": [
        "# Removing all the values greater than 5000.\n",
        "df_hotel_booking.drop(df_hotel_booking[df_hotel_booking['average_daily_rate'] > 5000].index, inplace = True)"
      ],
      "metadata": {
        "id": "sNSwVsusJH8v"
      },
      "execution_count": 30,
      "outputs": []
    },
    {
      "cell_type": "code",
      "source": [
        "plt.figure(figsize = (12,6))\n",
        "sns.scatterplot(y = 'average_daily_rate', x = 'stays_in_weekend_and_weeks', data = df_hotel_booking)\n",
        "plt.show()"
      ],
      "metadata": {
        "colab": {
          "base_uri": "https://localhost:8080/",
          "height": 389
        },
        "id": "DlxAGerEJiMp",
        "outputId": "f5031338-103d-4633-95db-a0f1eb1443ec"
      },
      "execution_count": 31,
      "outputs": [
        {
          "output_type": "display_data",
          "data": {
            "text/plain": [
              "<Figure size 864x432 with 1 Axes>"
            ],
            "image/png": "[encoded data removed]"
          },
          "metadata": {
            "needs_background": "light"
          }
        }
      ]
    },
    {
      "cell_type": "markdown",
      "source": [
        "# From the above scatter plot we can conclude that  stays_in_weekend_and_weeks and average_daily_rate hac a negative correlation. This means that, the longer the stay - better the deal for the customers."
      ],
      "metadata": {
        "id": "oO5NlwA-Jm62"
      }
    },
    {
      "cell_type": "markdown",
      "source": [
        "# Analysis of dataset on the basis of Services and amenities attached with differnt Hotel Type"
      ],
      "metadata": {
        "id": "DHNHq_X0XLem"
      }
    },
    {
      "cell_type": "code",
      "source": [
        "types_of_hotel = hotel_booking_df['hotel'].value_counts()\n",
        "types_of_hotel"
      ],
      "metadata": {
        "colab": {
          "base_uri": "https://localhost:8080/"
        },
        "id": "id6J9wxCKHMP",
        "outputId": "357bbf28-5340-4157-b957-7ba0e2965de0"
      },
      "execution_count": 32,
      "outputs": [
        {
          "output_type": "execute_result",
          "data": {
            "text/plain": [
              "City Hotel      79330\n",
              "Resort Hotel    40060\n",
              "Name: hotel, dtype: int64"
            ]
          },
          "metadata": {},
          "execution_count": 32
        }
      ]
    },
    {
      "cell_type": "markdown",
      "source": [
        "# Type of Hotels preferred"
      ],
      "metadata": {
        "id": "3svMSUXnYG_l"
      }
    },
    {
      "cell_type": "code",
      "source": [
        "# Type of Hotels preferred\n",
        "plt.figure(figsize = (14,8))\n",
        "types_of_hotel.plot.pie(x='City Hotel', y ='Resort Hotel',autopct='%1.0f%%')\n",
        "plt.legend() \n",
        "plt.title('Customer prefrence of Hotel',fontweight=\"bold\", size=20)\n",
        "plt.show()"
      ],
      "metadata": {
        "colab": {
          "base_uri": "https://localhost:8080/",
          "height": 487
        },
        "id": "B-gfglquYGS1",
        "outputId": "47982d23-2683-4179-a6d4-9baa51515691"
      },
      "execution_count": 33,
      "outputs": [
        {
          "output_type": "display_data",
          "data": {
            "text/plain": [
              "<Figure size 1008x576 with 1 Axes>"
            ],
            "image/png": "[encoded data removed]"
          },
          "metadata": {}
        }
      ]
    },
    {
      "cell_type": "markdown",
      "source": [
        "### As we can see the most of the Guests/customer prefferd City hotel over the resort hotel"
      ],
      "metadata": {
        "id": "ZrJp3z-YbAdP"
      }
    },
    {
      "cell_type": "markdown",
      "source": [
        "# Type of Meal prefrence"
      ],
      "metadata": {
        "id": "qldYhmA6bIDA"
      }
    },
    {
      "cell_type": "code",
      "source": [
        "type_of_meal_preference =  hotel_booking_df[hotel_booking_df['meal'] != 'Undefined']\n",
        "type_of_meal_preference['meal'].value_counts()"
      ],
      "metadata": {
        "colab": {
          "base_uri": "https://localhost:8080/"
        },
        "id": "oAZVZmUVz_iB",
        "outputId": "ed7a7c15-7a24-465f-9aec-f40b579527dc"
      },
      "execution_count": 34,
      "outputs": [
        {
          "output_type": "execute_result",
          "data": {
            "text/plain": [
              "BB    92310\n",
              "HB    14463\n",
              "SC    10650\n",
              "FB      798\n",
              "Name: meal, dtype: int64"
            ]
          },
          "metadata": {},
          "execution_count": 34
        }
      ]
    },
    {
      "cell_type": "markdown",
      "source": [
        "Hotel Meals abbreviations and their full forms'\n",
        "\n",
        "BB --bed and breakfast.\n",
        "\n",
        "HB --half board (in which breakfast and dinner are included.)\n",
        "\n",
        "FB--full board (in which breakfast, lunch and dinner are included.)"
      ],
      "metadata": {
        "id": "S0RZ0vOT248h"
      }
    },
    {
      "cell_type": "code",
      "source": [
        "plt.figure(figsize = (14,8))\n",
        "type_of_meal_preference['meal'].value_counts().plot.pie(autopct = '%1.0f%%')\n",
        "plt.title('Prefred Meal')\n",
        "plt.legend()\n",
        "plt.show()"
      ],
      "metadata": {
        "colab": {
          "base_uri": "https://localhost:8080/",
          "height": 482
        },
        "id": "GkegYt841NQ9",
        "outputId": "4c84828c-32b7-4793-d881-d833887733b7"
      },
      "execution_count": 35,
      "outputs": [
        {
          "output_type": "display_data",
          "data": {
            "text/plain": [
              "<Figure size 1008x576 with 1 Axes>"
            ],
            "image/png": "[encoded data removed]"
          },
          "metadata": {}
        }
      ]
    },
    {
      "cell_type": "markdown",
      "source": [
        "## The most prefered meal 'BB' type of meal \n",
        "\n",
        "BB --bed and breakfast.\n",
        "\n",
        "\n",
        "\n"
      ],
      "metadata": {
        "id": "DxZcLVyV7Fqi"
      }
    },
    {
      "cell_type": "markdown",
      "source": [
        "# Percentage of share of distribution_channel"
      ],
      "metadata": {
        "id": "7J-dCmH37x6r"
      }
    },
    {
      "cell_type": "code",
      "source": [
        "type_of_distribution_channel = hotel_booking_df[hotel_booking_df['distribution_channel'] != 'Undefined']\n",
        "type_of_distribution_channel['distribution_channel'].value_counts()"
      ],
      "metadata": {
        "colab": {
          "base_uri": "https://localhost:8080/"
        },
        "id": "utMBcbOc8vXC",
        "outputId": "1d8279ad-3555-4cf4-9a85-afa37c4ed1bd"
      },
      "execution_count": 36,
      "outputs": [
        {
          "output_type": "execute_result",
          "data": {
            "text/plain": [
              "TA/TO        97870\n",
              "Direct       14645\n",
              "Corporate     6677\n",
              "GDS            193\n",
              "Name: distribution_channel, dtype: int64"
            ]
          },
          "metadata": {},
          "execution_count": 36
        }
      ]
    },
    {
      "cell_type": "code",
      "source": [
        "plt.figure(figsize = (14,8))\n",
        "type_of_distribution_channel['distribution_channel'].value_counts().plot.pie(autopct = '%1.0f%%')\n",
        "plt.title('Percentage of distribution_channel')\n",
        "plt.legend()\n",
        "plt.show()"
      ],
      "metadata": {
        "colab": {
          "base_uri": "https://localhost:8080/",
          "height": 482
        },
        "id": "bpnW_KcY-Kpy",
        "outputId": "9b7e6e8e-d0d1-451d-ab6c-843521627836"
      },
      "execution_count": 37,
      "outputs": [
        {
          "output_type": "display_data",
          "data": {
            "text/plain": [
              "<Figure size 1008x576 with 1 Axes>"
            ],
            "image/png": "[encoded data removed]"
          },
          "metadata": {}
        }
      ]
    },
    {
      "cell_type": "markdown",
      "source": [
        "### TA/TO has the largest share of the market which is around 82%"
      ],
      "metadata": {
        "id": "jS4U7pd3_HeY"
      }
    },
    {
      "cell_type": "markdown",
      "source": [
        "# Percentage of repeated_guest"
      ],
      "metadata": {
        "id": "IoRlNjyU_hAA"
      }
    },
    {
      "cell_type": "code",
      "source": [
        "hotel_booking_df['is_repeated_guest'].value_counts()"
      ],
      "metadata": {
        "colab": {
          "base_uri": "https://localhost:8080/"
        },
        "id": "wv5Sl2JLAKUP",
        "outputId": "5f6bc6a0-e2e6-4027-8c21-6665ce1ad50f"
      },
      "execution_count": 38,
      "outputs": [
        {
          "output_type": "execute_result",
          "data": {
            "text/plain": [
              "0    115580\n",
              "1      3810\n",
              "Name: is_repeated_guest, dtype: int64"
            ]
          },
          "metadata": {},
          "execution_count": 38
        }
      ]
    },
    {
      "cell_type": "code",
      "source": [
        "plt.figure(figsize = (14,8))\n",
        "hotel_booking_df['is_repeated_guest'].value_counts().plot.pie(autopct = '%1.0f%%')\n",
        "plt.title('Percentage of repeated_guest')\n",
        "plt.legend()\n",
        "plt.show()"
      ],
      "metadata": {
        "colab": {
          "base_uri": "https://localhost:8080/",
          "height": 482
        },
        "id": "1bkHvAfGDPXS",
        "outputId": "52b99649-78ab-453b-e72c-fd7b5f25c279"
      },
      "execution_count": 39,
      "outputs": [
        {
          "output_type": "display_data",
          "data": {
            "text/plain": [
              "<Figure size 1008x576 with 1 Axes>"
            ],
            "image/png": "[encoded data removed]"
          },
          "metadata": {}
        }
      ]
    },
    {
      "cell_type": "markdown",
      "source": [
        "Asuming 0 = False and 1 = True\n",
        "\n",
        "The guest retention rate is 'very low'. Only 3% of guest are Repeating."
      ],
      "metadata": {
        "id": "xQRKzXeUFjMQ"
      }
    },
    {
      "cell_type": "markdown",
      "source": [
        "# Analysis of dataset on the basis of type of customer."
      ],
      "metadata": {
        "id": "lvq5qX5BGBhh"
      }
    },
    {
      "cell_type": "code",
      "source": [
        "plt.figure(figsize = (14,8))\n",
        "hotel_booking_df['customer_type'].value_counts().plot.pie(autopct = '%1.0f%%')\n",
        "plt.title('Percentage of  type of customer')\n",
        "plt.legend()\n",
        "plt.show() "
      ],
      "metadata": {
        "colab": {
          "base_uri": "https://localhost:8080/",
          "height": 482
        },
        "id": "uLzGCMS0bDbE",
        "outputId": "b0780795-1894-4260-ccce-acf64a595a83"
      },
      "execution_count": 40,
      "outputs": [
        {
          "output_type": "display_data",
          "data": {
            "text/plain": [
              "<Figure size 1008x576 with 1 Axes>"
            ],
            "image/png": "[encoded data removed]"
          },
          "metadata": {}
        }
      ]
    },
    {
      "cell_type": "markdown",
      "source": [
        "## There are 4 types of Customers. Out of which mostly are from Transient Type with 75% share\n"
      ],
      "metadata": {
        "id": "Mvmt_EfvdD8h"
      }
    },
    {
      "cell_type": "markdown",
      "source": [
        "# Analysis on the basis of Hotel and its attributes"
      ],
      "metadata": {
        "id": "-2iy-nEVdlhj"
      }
    },
    {
      "cell_type": "markdown",
      "source": [
        "### Count of Bookings Year-wise"
      ],
      "metadata": {
        "id": "AthW-3upP-Gl"
      }
    },
    {
      "cell_type": "code",
      "source": [
        "plt.figure(figsize = (14,8))\n",
        "sns.countplot(x= 'arrival_date_year', data= hotel_booking_df, hue= 'hotel')\n",
        "plt.title('Bookings By Year')\n",
        "plt.legend()\n",
        "plt.show() "
      ],
      "metadata": {
        "colab": {
          "base_uri": "https://localhost:8080/",
          "height": 514
        },
        "id": "XQbr2qUadnH4",
        "outputId": "39471e2c-bdeb-4614-f315-822e1283efa4"
      },
      "execution_count": 41,
      "outputs": [
        {
          "output_type": "display_data",
          "data": {
            "text/plain": [
              "<Figure size 1008x576 with 1 Axes>"
            ],
            "image/png": "[encoded data removed]"
          },
          "metadata": {
            "needs_background": "light"
          }
        }
      ]
    },
    {
      "cell_type": "markdown",
      "source": [
        "## Bookings for city hotels are higher than resort hotels by considering every years data except the year 2015.\n",
        "## In the year 2016 both the hotels have the highest number of guests."
      ],
      "metadata": {
        "id": "OdHsK8swutDk"
      }
    },
    {
      "cell_type": "markdown",
      "source": [
        "### Count of Bookings Month-wise"
      ],
      "metadata": {
        "id": "M2NHIfSZu7KG"
      }
    },
    {
      "cell_type": "code",
      "source": [
        "months = ['January', 'February', 'March', 'April', 'May', 'June', 'July', 'August', 'September', 'October', 'November', 'December']\n",
        "hotel_booking_df['arrival_date_month'] = pd.Categorical(hotel_booking_df['arrival_date_month'], categories=months, ordered=True)\n",
        "plt.figure(figsize = (16,8))\n",
        "sns.countplot(x= 'arrival_date_month', data= hotel_booking_df, hue= 'hotel')\n",
        "plt.title('Bookings By Month')\n",
        "plt.legend()\n",
        "plt.show() \n"
      ],
      "metadata": {
        "colab": {
          "base_uri": "https://localhost:8080/",
          "height": 514
        },
        "id": "M6CRVqZfxN-b",
        "outputId": "1c252c57-57b9-46fa-d068-02084c0f7f19"
      },
      "execution_count": 42,
      "outputs": [
        {
          "output_type": "display_data",
          "data": {
            "text/plain": [
              "<Figure size 1152x576 with 1 Axes>"
            ],
            "image/png": "[encoded data removed]"
          },
          "metadata": {
            "needs_background": "light"
          }
        }
      ]
    },
    {
      "cell_type": "markdown",
      "source": [
        "### Both the hotels have good occupancy in the 2nd and 3rd quarter of the year with 'August' being the highest of all"
      ],
      "metadata": {
        "id": "lKqF0jYLZ5zj"
      }
    },
    {
      "cell_type": "markdown",
      "source": [
        "# Count of Bookings day of month wise"
      ],
      "metadata": {
        "id": "5Vf7bqoXapaq"
      }
    },
    {
      "cell_type": "code",
      "source": [
        "plt.figure(figsize = (14,8))\n",
        "sns.countplot(x='arrival_date_day_of_month', data= hotel_booking_df, hue= 'hotel',palette='Paired')\n",
        "plt.title('arrival_date_day_of_month')\n",
        "plt.legend()\n",
        "plt.show() \n"
      ],
      "metadata": {
        "colab": {
          "base_uri": "https://localhost:8080/",
          "height": 514
        },
        "id": "ppBsOUL_Z6SF",
        "outputId": "d912c191-e7ce-415a-b8c7-7f939843fbdf"
      },
      "execution_count": 43,
      "outputs": [
        {
          "output_type": "display_data",
          "data": {
            "text/plain": [
              "<Figure size 1008x576 with 1 Axes>"
            ],
            "image/png": "[encoded data removed]"
          },
          "metadata": {
            "needs_background": "light"
          }
        }
      ]
    },
    {
      "cell_type": "markdown",
      "source": [
        "Here we can conclude that the bookings in the month end are least. But that not true because as every month didn't have the 31 days thats why we see the less number of arrivals in the month end"
      ],
      "metadata": {
        "id": "FtPPUZ2eQeCc"
      }
    },
    {
      "cell_type": "markdown",
      "source": [
        "# Number of bookings country wise"
      ],
      "metadata": {
        "id": "VJ8Z8PjEbCh8"
      }
    },
    {
      "cell_type": "code",
      "source": [
        "booking_count_of_country = hotel_booking_df['country'].value_counts().head(10)\n",
        "booking_count_of_country.columns=['country','no of guests']\n",
        "booking_count_of_country"
      ],
      "metadata": {
        "colab": {
          "base_uri": "https://localhost:8080/"
        },
        "id": "RSn138oEe-_3",
        "outputId": "02deb3b4-6429-464e-c935-012064142f9e"
      },
      "execution_count": 45,
      "outputs": [
        {
          "output_type": "execute_result",
          "data": {
            "text/plain": [
              "PRT    48590\n",
              "GBR    12129\n",
              "FRA    10415\n",
              "ESP     8568\n",
              "DEU     7287\n",
              "ITA     3766\n",
              "IRL     3375\n",
              "BEL     2342\n",
              "BRA     2224\n",
              "NLD     2104\n",
              "Name: country, dtype: int64"
            ]
          },
          "metadata": {},
          "execution_count": 45
        }
      ]
    },
    {
      "cell_type": "code",
      "source": [
        "plt.figure(figsize = (14,8))\n",
        "booking_count_of_country.plot(kind = 'bar')\n",
        "plt.title('Number of bookings country wise')\n",
        "plt.legend()\n",
        "plt.show() "
      ],
      "metadata": {
        "colab": {
          "base_uri": "https://localhost:8080/",
          "height": 510
        },
        "id": "PR5ahjhag-_R",
        "outputId": "a294edb2-6fc5-4156-aa2f-8c9cafb83021"
      },
      "execution_count": 46,
      "outputs": [
        {
          "output_type": "display_data",
          "data": {
            "text/plain": [
              "<Figure size 1008x576 with 1 Axes>"
            ],
            "image/png": "[encoded data removed]"
          },
          "metadata": {
            "needs_background": "light"
          }
        }
      ]
    },
    {
      "cell_type": "markdown",
      "source": [
        "## Most no. of guest are from Portugal and other Europian contries."
      ],
      "metadata": {
        "id": "fVRJ4jpCmxyO"
      }
    },
    {
      "cell_type": "code",
      "source": [
        "df_hotel_booking.info()"
      ],
      "metadata": {
        "colab": {
          "base_uri": "https://localhost:8080/"
        },
        "id": "nNaZbOsCa-CY",
        "outputId": "a38d4340-f078-40c7-abf7-4aeff8be46ec"
      },
      "execution_count": 72,
      "outputs": [
        {
          "output_type": "stream",
          "name": "stdout",
          "text": [
            "<class 'pandas.core.frame.DataFrame'>\n",
            "Int64Index: 87230 entries, 0 to 119389\n",
            "Data columns (total 34 columns):\n",
            " #   Column                          Non-Null Count  Dtype   \n",
            "---  ------                          --------------  -----   \n",
            " 0   hotel                           87230 non-null  object  \n",
            " 1   is_canceled                     87230 non-null  int64   \n",
            " 2   lead_time                       87230 non-null  int64   \n",
            " 3   arrival_date_year               87230 non-null  int64   \n",
            " 4   arrival_date_month              87230 non-null  category\n",
            " 5   arrival_date_week_number        87230 non-null  int64   \n",
            " 6   arrival_date_day_of_month       87230 non-null  int64   \n",
            " 7   stays_in_weekend_nights         87230 non-null  int64   \n",
            " 8   stays_in_week_nights            87230 non-null  int64   \n",
            " 9   adults                          87230 non-null  int64   \n",
            " 10  children                        87230 non-null  int64   \n",
            " 11  babies                          87230 non-null  int64   \n",
            " 12  meal                            87230 non-null  object  \n",
            " 13  country                         87230 non-null  object  \n",
            " 14  market_segment                  87230 non-null  object  \n",
            " 15  distribution_channel            87230 non-null  object  \n",
            " 16  is_repeated_guest               87230 non-null  int64   \n",
            " 17  previous_cancellations          87230 non-null  int64   \n",
            " 18  previous_bookings_not_canceled  87230 non-null  int64   \n",
            " 19  reserved_room_type              87230 non-null  object  \n",
            " 20  assigned_room_type              87230 non-null  object  \n",
            " 21  booking_changes                 87230 non-null  int64   \n",
            " 22  deposit_type                    87230 non-null  object  \n",
            " 23  agent                           87230 non-null  int64   \n",
            " 24  company                         87230 non-null  int64   \n",
            " 25  days_in_waiting_list            87230 non-null  int64   \n",
            " 26  customer_type                   87230 non-null  object  \n",
            " 27  average_daily_rate              87230 non-null  float64 \n",
            " 28  required_car_parking_spaces     87230 non-null  int64   \n",
            " 29  total_of_special_requests       87230 non-null  int64   \n",
            " 30  reservation_status              87230 non-null  object  \n",
            " 31  reservation_status_date         87230 non-null  object  \n",
            " 32  Total_group_members             87230 non-null  int64   \n",
            " 33  stays_in_weekend_and_weeks      87230 non-null  int64   \n",
            "dtypes: category(1), float64(1), int64(21), object(11)\n",
            "memory usage: 22.7+ MB\n"
          ]
        }
      ]
    },
    {
      "cell_type": "markdown",
      "source": [
        "# Total number of person staying together"
      ],
      "metadata": {
        "id": "nHgw7D0uk893"
      }
    },
    {
      "cell_type": "code",
      "source": [
        "plt.figure(figsize = (14,8))\n",
        "sns.countplot(df_hotel_booking['Total_group_members'], palette='husl')\n",
        "plt.title('Total_number_of_person_staying_together')\n",
        "plt.legend()\n",
        "plt.show() "
      ],
      "metadata": {
        "colab": {
          "base_uri": "https://localhost:8080/",
          "height": 586
        },
        "id": "D5jQyje6eGy1",
        "outputId": "41880e58-9a9b-494b-ce66-94ca4a026fe7"
      },
      "execution_count": 94,
      "outputs": [
        {
          "output_type": "stream",
          "name": "stderr",
          "text": [
            "/usr/local/lib/python3.7/dist-packages/seaborn/_decorators.py:43: FutureWarning: Pass the following variable as a keyword arg: x. From version 0.12, the only valid positional argument will be `data`, and passing other arguments without an explicit keyword will result in an error or misinterpretation.\n",
            "  FutureWarning\n",
            "WARNING:matplotlib.legend:No handles with labels found to put in legend.\n"
          ]
        },
        {
          "output_type": "display_data",
          "data": {
            "text/plain": [
              "<Figure size 1008x576 with 1 Axes>"
            ],
            "image/png": "[encoded data removed]"
          },
          "metadata": {
            "needs_background": "light"
          }
        }
      ]
    },
    {
      "cell_type": "markdown",
      "source": [
        "## Most peoples like to come in pairs."
      ],
      "metadata": {
        "id": "27yuCUgmlOMw"
      }
    },
    {
      "cell_type": "markdown",
      "source": [
        "# Analysis of Number of Booking  Agent Wise"
      ],
      "metadata": {
        "id": "RexVqHnGlUiU"
      }
    },
    {
      "cell_type": "code",
      "source": [
        "number_of_booking_per_agent = pd.DataFrame(df_hotel_booking['agent'].value_counts()).reset_index().rename(columns = {'index' : 'agent_number','agent':'number_of_booking'}).sort_values(by = 'number_of_booking',ascending = False)\n",
        "number_of_booking_per_agent = number_of_booking_per_agent[0:10].sort_values(by = 'number_of_booking',ascending = False)\n"
      ],
      "metadata": {
        "id": "hpxbbH4vtd4T"
      },
      "execution_count": 132,
      "outputs": []
    },
    {
      "cell_type": "code",
      "source": [
        "plt.figure(figsize = (14,8))\n",
        "sns.barplot(x = 'agent_number',y = 'number_of_booking', data = number_of_booking_per_agent )\n",
        "plt.title('number_of_booking_per_agent')\n",
        "plt.legend()\n",
        "plt.show() "
      ],
      "metadata": {
        "colab": {
          "base_uri": "https://localhost:8080/",
          "height": 531
        },
        "id": "U8-_VbGvvEim",
        "outputId": "6d144889-b2f4-4d3b-b3f3-77fdb17c5e47"
      },
      "execution_count": 133,
      "outputs": [
        {
          "output_type": "stream",
          "name": "stderr",
          "text": [
            "WARNING:matplotlib.legend:No handles with labels found to put in legend.\n"
          ]
        },
        {
          "output_type": "display_data",
          "data": {
            "text/plain": [
              "<Figure size 1008x576 with 1 Axes>"
            ],
            "image/png": "[encoded data removed]"
          },
          "metadata": {
            "needs_background": "light"
          }
        }
      ]
    },
    {
      "cell_type": "markdown",
      "source": [
        "### Agent Having number 9 has made most number of bookings."
      ],
      "metadata": {
        "id": "8YkjHYb-yGB_"
      }
    },
    {
      "cell_type": "markdown",
      "source": [
        "# Most preferred Room type Vs Average Daily Rate"
      ],
      "metadata": {
        "id": "D8UWYhx5yTle"
      }
    },
    {
      "cell_type": "code",
      "source": [
        "plt.figure(figsize = (18,8))\n",
        "plt.subplot(1,2,1)\n",
        "sns.countplot(df_hotel_booking['assigned_room_type'])\n",
        "plt.title('assigned_room_type')\n",
        "plt.subplot(1,2,2)\n",
        "sns.barplot(x='assigned_room_type', y='average_daily_rate', data =df_hotel_booking)\n",
        "plt.show() \n"
      ],
      "metadata": {
        "colab": {
          "base_uri": "https://localhost:8080/",
          "height": 569
        },
        "id": "iWHtT4QAyT2a",
        "outputId": "086d8770-ef78-43e2-edbf-3424e6c0b5ed"
      },
      "execution_count": 141,
      "outputs": [
        {
          "output_type": "stream",
          "name": "stderr",
          "text": [
            "/usr/local/lib/python3.7/dist-packages/seaborn/_decorators.py:43: FutureWarning: Pass the following variable as a keyword arg: x. From version 0.12, the only valid positional argument will be `data`, and passing other arguments without an explicit keyword will result in an error or misinterpretation.\n",
            "  FutureWarning\n"
          ]
        },
        {
          "output_type": "display_data",
          "data": {
            "text/plain": [
              "<Figure size 1296x576 with 2 Axes>"
            ],
            "image/png": "[encoded data removed]"
          },
          "metadata": {
            "needs_background": "light"
          }
        }
      ]
    },
    {
      "cell_type": "markdown",
      "source": [
        "## Room types A and D are preferred most by guests.\n",
        "## But 'Average daily rate' is good for the rooms of type H,G,F and C."
      ],
      "metadata": {
        "id": "pEvKvOO42cSN"
      }
    },
    {
      "cell_type": "markdown",
      "source": [
        "\n",
        "\n",
        "# Stay length on the basis of  hotels\n",
        "\n"
      ],
      "metadata": {
        "id": "Ck0dCjL02ym8"
      }
    },
    {
      "cell_type": "code",
      "source": [
        " # limiting stays_in_weekend_and_weeks to less than 30\n",
        "number_of_stays_in_weekend_and_weeks_lessthan_30days = df_hotel_booking[df_hotel_booking['stays_in_weekend_and_weeks'] < 30]\n",
        " # limiting stays_in_weekend_and_weeks to greter than 30\n",
        "number_of_stays_in_weekend_and_weeks_morethan_30days = df_hotel_booking[df_hotel_booking['stays_in_weekend_and_weeks'] > 30]\n",
        "# Plotting a graph of both hotels for staying length\n",
        "plt.figure(figsize = (20,6))\n",
        "plt.subplot(1,2,1)\n",
        "sns.countplot(x = number_of_stays_in_weekend_and_weeks_lessthan_30days['stays_in_weekend_and_weeks'], hue = number_of_stays_in_weekend_and_weeks_lessthan_30days['hotel'])\n",
        "plt.title('number_of_stays_in_weekend_and_weeks_lessthan_30days')\n",
        "plt.subplot(1,2,2)\n",
        "sns.countplot(x = number_of_stays_in_weekend_and_weeks_morethan_30days['stays_in_weekend_and_weeks'], hue = number_of_stays_in_weekend_and_weeks_morethan_30days['hotel'])\n",
        "plt.title('number_of_stays_in_weekend_and_weeks_morethan_30days')\n",
        "plt.show() \n"
      ],
      "metadata": {
        "colab": {
          "base_uri": "https://localhost:8080/",
          "height": 405
        },
        "id": "Sv_Pv5fW2xwY",
        "outputId": "abd91963-f72d-404c-de1e-7510a60e8eca"
      },
      "execution_count": 164,
      "outputs": [
        {
          "output_type": "display_data",
          "data": {
            "text/plain": [
              "<Figure size 1440x432 with 2 Axes>"
            ],
            "image/png": "[encoded data removed]"
          },
          "metadata": {
            "needs_background": "light"
          }
        }
      ]
    },
    {
      "cell_type": "markdown",
      "source": [
        "### Most common stay length is less than or equal to 4 days.\n",
        "### Generally people prefer City hotel for short stay, but for long stays, Resort Hotel is preferred."
      ],
      "metadata": {
        "id": "rg6XOCMYA0B4"
      }
    },
    {
      "cell_type": "markdown",
      "source": [
        "# No. of guests staying at weekends and weekdays in both hotels"
      ],
      "metadata": {
        "id": "Gt0A3DuwBRLx"
      }
    },
    {
      "cell_type": "code",
      "source": [
        "# Plotting a subplot graph for the no. of stays in weekends.\n",
        "plt.figure(figsize=(20,8))\n",
        "plt.subplot(1, 2, 1)\n",
        "sns.countplot(x='stays_in_weekend_nights',hue='hotel', data=df_hotel_booking)\n",
        "plt.title(\"Number of stays on weekend nights\",fontweight=\"bold\", size=20)\n",
        "\n",
        "# Plotting a subplot graph for the no. of stays in weekdays.\n",
        "plt.subplot(1, 2, 2)\n",
        "sns.countplot(x='stays_in_week_nights',hue='hotel', data=df_hotel_booking)\n",
        "plt.title(\"Number of stays on weekday nights\",fontweight=\"bold\", size=20)\n",
        "plt.show()"
      ],
      "metadata": {
        "colab": {
          "base_uri": "https://localhost:8080/",
          "height": 519
        },
        "id": "fFwlbEPRBRtY",
        "outputId": "56458110-977e-4a6f-935c-712b194b998a"
      },
      "execution_count": 170,
      "outputs": [
        {
          "output_type": "display_data",
          "data": {
            "text/plain": [
              "<Figure size 1440x576 with 2 Axes>"
            ],
            "image/png": "[encoded data removed]"
          },
          "metadata": {
            "needs_background": "light"
          }
        }
      ]
    },
    {
      "cell_type": "markdown",
      "source": [
        "### City hotels have more number of stays irrespective of week or weekend stays."
      ],
      "metadata": {
        "id": "0MMlzPvPEByq"
      }
    },
    {
      "cell_type": "markdown",
      "source": [],
      "metadata": {
        "id": "_-hYLxoeEHpb"
      }
    },
    {
      "cell_type": "code",
      "source": [],
      "metadata": {
        "id": "7Du6WXgQEH58"
      },
      "execution_count": null,
      "outputs": []
    }
  ],
  "metadata": {
    "colab": {
      "name": "AlmaBetter- Hotel Booking Analysis - Capstone Project.ipynb",
      "provenance": [],
      "include_colab_link": true
    },
    "kernelspec": {
      "display_name": "Python 3",
      "language": "python",
      "name": "python3"
    },
    "language_info": {
      "codemirror_mode": {
        "name": "ipython",
        "version": 3
      },
      "file_extension": ".py",
      "mimetype": "text/x-python",
      "name": "python",
      "nbconvert_exporter": "python",
      "pygments_lexer": "ipython3",
      "version": "3.6.6"
    }
  },
  "nbformat": 4,
  "nbformat_minor": 0
}